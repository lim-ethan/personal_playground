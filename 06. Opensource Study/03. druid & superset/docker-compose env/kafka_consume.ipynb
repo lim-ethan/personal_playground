{
 "cells": [
  {
   "cell_type": "code",
   "execution_count": null,
   "id": "eb1b9abd",
   "metadata": {},
   "outputs": [
    {
     "name": "stdout",
     "output_type": "stream",
     "text": [
      "Received message: {'user': 'test2', 'action': 'click', 'timestamp': '2025-08-26T10:00:00'}\n",
      "Received message: {'user': 'test1', 'action': 'click', 'timestamp': '2025-08-26T10:00:00'}\n",
      "Received message: {'user': 'test2', 'action': 'click', 'timestamp': '2025-08-26T10:00:00'}\n",
      "Received message: {'user': 'test3', 'action': 'click', 'timestamp': '2025-08-26T10:00:00'}\n",
      "Received message: {'user': 'test4', 'action': 'click', 'timestamp': '2025-08-26T10:00:00'}\n",
      "Received message: {'user': 'test5', 'action': 'click', 'timestamp': '2025-08-26T10:00:00'}\n",
      "Received message: {'user': 'test5', 'action': 'click', 'timestamp': '2025-08-26T10:00:00'}\n",
      "Received message: {'user': 'test5', 'action': 'click', 'timestamp': '2025-08-26T10:00:00'}\n",
      "Received message: {'user': 'test5', 'action': 'click', 'timestamp': '2025-08-26T10:00:00'}\n",
      "Received message: {'user': 'test5', 'action': 'click', 'timestamp': '2025-08-26T10:00:00'}\n",
      "Received message: {'user': 'test5', 'action': 'click', 'timestamp': '2025-08-26T10:00:00'}\n",
      "Received message: {'user': 'test5', 'action': 'click', 'timestamp': '2025-08-26T10:00:00'}\n",
      "Received message: {'user': 'test5', 'action': 'click', 'timestamp': '2025-08-26T10:00:00'}\n",
      "Received message: {'user': 'test5', 'action': 'click', 'timestamp': '2025-08-26T10:00:00'}\n",
      "Received message: {'user': 'test5', 'action': 'click', 'timestamp': '2025-08-26T10:00:00'}\n",
      "Received message: {'user': 'test5', 'action': 'click', 'timestamp': '2025-08-26T10:00:00'}\n",
      "Received message: {'user': 'test2', 'action': 'click', 'timestamp': '2025-08-26T10:00:00'}\n",
      "Received message: {'user': 'test12', 'action': 'click', 'timestamp': '2025-08-26T10:00:00'}\n",
      "Received message: {'user': 'test123', 'action': 'click', 'timestamp': '2025-08-26T10:00:00'}\n",
      "Received message: {'user': 'test123', 'action': 'click', 'timestamp': '2025-08-26T10:00:00'}\n",
      "Received message: {'user': 'test1234', 'action': 'click', 'timestamp': '2025-08-26T10:00:00'}\n",
      "Received message: {'user': 'test12345', 'action': 'click', 'timestamp': '2025-08-26T10:00:00'}\n",
      "Received message: {'user': 'test12', 'action': 'click', 'timestamp': '2025-08-26T10:00:00'}\n",
      "Received message: {'user': 'test1', 'action': 'click', 'timestamp': '2025-08-26T10:00:00'}\n"
     ]
    }
   ],
   "source": [
    "from kafka import KafkaConsumer\n",
    "import json\n",
    "\n",
    "consumer = KafkaConsumer(\n",
    "    'kfk_stream_topic',               \n",
    "    bootstrap_servers='localhost:9093',\n",
    "    auto_offset_reset='earliest',\n",
    "    enable_auto_commit=True,\n",
    "    group_id='my-consumer-group',\n",
    "    value_deserializer=lambda x: json.loads(x.decode('utf-8'))\n",
    ")\n",
    "\n",
    "for message in consumer:\n",
    "    print(\"Received message:\", message.value)\n"
   ]
  }
 ],
 "metadata": {
  "kernelspec": {
   "display_name": "upstage_api_test",
   "language": "python",
   "name": "python3"
  },
  "language_info": {
   "codemirror_mode": {
    "name": "ipython",
    "version": 3
   },
   "file_extension": ".py",
   "mimetype": "text/x-python",
   "name": "python",
   "nbconvert_exporter": "python",
   "pygments_lexer": "ipython3",
   "version": "3.10.16"
  }
 },
 "nbformat": 4,
 "nbformat_minor": 5
}
