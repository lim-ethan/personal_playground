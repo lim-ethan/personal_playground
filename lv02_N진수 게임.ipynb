{
 "cells": [
  {
   "cell_type": "code",
   "execution_count": null,
   "id": "4fcb77b2",
   "metadata": {},
   "outputs": [],
   "source": [
    "def solution(n, t, m, p):\n",
    "    answer = ''\n",
    "    return answer"
   ]
  },
  {
   "cell_type": "code",
   "execution_count": 2,
   "id": "4c21844d",
   "metadata": {},
   "outputs": [],
   "source": [
    "import collections "
   ]
  },
  {
   "cell_type": "code",
   "execution_count": 16,
   "id": "91d0bcd5",
   "metadata": {},
   "outputs": [],
   "source": [
    "import collections\n",
    "\n",
    "def convert_to_base(n, base):\n",
    "    digits = '0123456789ABCDEF'\n",
    "    q = collections.deque()\n",
    "\n",
    "    if n == 0:\n",
    "        return '0'\n",
    "\n",
    "    while n > 0:\n",
    "        q.appendleft(digits[n % base])\n",
    "        n = n // base\n",
    "    print('QUEUE : ', q)\n",
    "    return ''.join(q)\n",
    "\n",
    "\n",
    "def solution(n, t, m, p):\n",
    "    answer = ''\n",
    "    full_str = ''\n",
    "    num = 0\n",
    "    while len(full_str) < t * m:\n",
    "        full_str += convert_to_base(num, n)\n",
    "        num += 1\n",
    "    for i in range(t):\n",
    "        answer += full_str[(p - 1) + i * m]\n",
    "        \n",
    "    \n",
    "    return answer"
   ]
  },
  {
   "cell_type": "code",
   "execution_count": 17,
   "id": "52d8ce60",
   "metadata": {},
   "outputs": [
    {
     "name": "stdout",
     "output_type": "stream",
     "text": [
      "QUEUE :  deque(['1'])\n",
      "QUEUE :  deque(['2'])\n",
      "QUEUE :  deque(['3'])\n",
      "QUEUE :  deque(['4'])\n",
      "QUEUE :  deque(['5'])\n",
      "QUEUE :  deque(['6'])\n",
      "QUEUE :  deque(['7'])\n",
      "QUEUE :  deque(['8'])\n",
      "QUEUE :  deque(['9'])\n",
      "QUEUE :  deque(['A'])\n",
      "QUEUE :  deque(['B'])\n",
      "QUEUE :  deque(['C'])\n",
      "QUEUE :  deque(['D'])\n",
      "QUEUE :  deque(['E'])\n",
      "QUEUE :  deque(['F'])\n",
      "QUEUE :  deque(['1', '0'])\n",
      "QUEUE :  deque(['1', '1'])\n",
      "QUEUE :  deque(['1', '2'])\n",
      "QUEUE :  deque(['1', '3'])\n",
      "QUEUE :  deque(['1', '4'])\n",
      "QUEUE :  deque(['1', '5'])\n",
      "QUEUE :  deque(['1', '6'])\n",
      "QUEUE :  deque(['1', '7'])\n"
     ]
    },
    {
     "data": {
      "text/plain": [
       "'02468ACE11111111'"
      ]
     },
     "execution_count": 17,
     "metadata": {},
     "output_type": "execute_result"
    }
   ],
   "source": [
    "solution(16,16,2,1)"
   ]
  },
  {
   "cell_type": "code",
   "execution_count": null,
   "id": "ed575307",
   "metadata": {},
   "outputs": [],
   "source": []
  }
 ],
 "metadata": {
  "kernelspec": {
   "display_name": "upstage_api_test",
   "language": "python",
   "name": "python3"
  },
  "language_info": {
   "codemirror_mode": {
    "name": "ipython",
    "version": 3
   },
   "file_extension": ".py",
   "mimetype": "text/x-python",
   "name": "python",
   "nbconvert_exporter": "python",
   "pygments_lexer": "ipython3",
   "version": "3.10.16"
  }
 },
 "nbformat": 4,
 "nbformat_minor": 5
}
