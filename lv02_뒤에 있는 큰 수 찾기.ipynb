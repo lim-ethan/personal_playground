{
 "cells": [
  {
   "cell_type": "code",
   "execution_count": 60,
   "id": "11f30144",
   "metadata": {},
   "outputs": [],
   "source": [
    "def solution(numbers):\n",
    "    answer = []\n",
    "    for i in range(len(numbers)):\n",
    "        found = False\n",
    "        for j in range(i+1, len(numbers)):\n",
    "            if numbers[j] > numbers[i]:\n",
    "                answer.append(numbers[j])\n",
    "                found = True\n",
    "                break\n",
    "        if not found:\n",
    "            answer.append(-1)\n",
    "    return answer\n"
   ]
  },
  {
   "cell_type": "code",
   "execution_count": 59,
   "id": "0c781752",
   "metadata": {},
   "outputs": [
    {
     "data": {
      "text/plain": [
       "[-1, 5, 6, 6, -1, -1]"
      ]
     },
     "execution_count": 59,
     "metadata": {},
     "output_type": "execute_result"
    }
   ],
   "source": [
    "def solution(numbers):\n",
    "    answer = [-1] * len(numbers)\n",
    "    stack = []\n",
    "\n",
    "    for i in range(len(numbers)):\n",
    "        while stack and numbers[stack[-1]] < numbers[i]:\n",
    "            idx = stack.pop()\n",
    "            answer[idx] = numbers[i]\n",
    "        stack.append(i)\n",
    "    return answer\n"
   ]
  },
  {
   "cell_type": "code",
   "execution_count": 61,
   "id": "172f8f36",
   "metadata": {},
   "outputs": [
    {
     "data": {
      "text/plain": [
       "[-1, 5, 6, 6, -1, -1]"
      ]
     },
     "execution_count": 61,
     "metadata": {},
     "output_type": "execute_result"
    }
   ],
   "source": [
    "solution([9, 1, 5, 3, 6, 2])"
   ]
  },
  {
   "cell_type": "code",
   "execution_count": null,
   "id": "b9bc0f23",
   "metadata": {},
   "outputs": [],
   "source": []
  },
  {
   "cell_type": "code",
   "execution_count": null,
   "id": "d6ed748c",
   "metadata": {},
   "outputs": [],
   "source": []
  }
 ],
 "metadata": {
  "kernelspec": {
   "display_name": "upstage_api_test",
   "language": "python",
   "name": "python3"
  },
  "language_info": {
   "codemirror_mode": {
    "name": "ipython",
    "version": 3
   },
   "file_extension": ".py",
   "mimetype": "text/x-python",
   "name": "python",
   "nbconvert_exporter": "python",
   "pygments_lexer": "ipython3",
   "version": "3.10.16"
  }
 },
 "nbformat": 4,
 "nbformat_minor": 5
}
