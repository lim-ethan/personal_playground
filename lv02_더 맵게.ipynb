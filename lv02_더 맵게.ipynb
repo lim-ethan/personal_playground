{
 "cells": [
  {
   "cell_type": "code",
   "execution_count": null,
   "id": "c0a2c5cb",
   "metadata": {},
   "outputs": [],
   "source": [
    "import heapq\n",
    "\n",
    "def solution(scoville, K):\n",
    "    heapq.heapify(scoville) \n",
    "    mix_count = 0\n",
    "\n",
    "    while scoville[0] <= K : \n",
    "        if len(scoville) < 2:\n",
    "            return -1\n",
    "        mix_count += 1\n",
    "        first = heapq.heappop(scoville)\n",
    "        second = heapq.heappop(scoville)\n",
    "        now_scoville = first + second * 2\n",
    "        heapq.heappush(scoville, now_scoville)\n",
    "    return mix_count\n"
   ]
  },
  {
   "cell_type": "code",
   "execution_count": 25,
   "id": "2372ba2b",
   "metadata": {},
   "outputs": [
    {
     "data": {
      "text/plain": [
       "2"
      ]
     },
     "execution_count": 25,
     "metadata": {},
     "output_type": "execute_result"
    }
   ],
   "source": [
    "scoville, K = [1, 2, 3, 9, 10, 12], 7\n",
    "solution(scoville, K)"
   ]
  },
  {
   "cell_type": "code",
   "execution_count": null,
   "id": "3fdcc405",
   "metadata": {},
   "outputs": [],
   "source": []
  }
 ],
 "metadata": {
  "kernelspec": {
   "display_name": "upstage_api_test",
   "language": "python",
   "name": "python3"
  },
  "language_info": {
   "codemirror_mode": {
    "name": "ipython",
    "version": 3
   },
   "file_extension": ".py",
   "mimetype": "text/x-python",
   "name": "python",
   "nbconvert_exporter": "python",
   "pygments_lexer": "ipython3",
   "version": "3.10.16"
  }
 },
 "nbformat": 4,
 "nbformat_minor": 5
}
