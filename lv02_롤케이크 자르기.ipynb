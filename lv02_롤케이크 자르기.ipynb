{
 "cells": [
  {
   "cell_type": "code",
   "execution_count": null,
   "id": "4706c615",
   "metadata": {},
   "outputs": [],
   "source": [
    "def solution(topping):\n",
    "    answer = 0\n",
    "    start = 0\n",
    "    end = 1\n",
    "    for i in range(len(topping)-1) : \n",
    "        left = set(topping[start:end])\n",
    "        right = set(topping[end:])\n",
    "        # print('=' * 150)\n",
    "        # print('ㅁ left : ', left)\n",
    "        # print('ㅁ right : ', right)\n",
    "        if len(left) == len(right) : \n",
    "            answer += 1\n",
    "\n",
    "        end += 1\n",
    "    return answer"
   ]
  },
  {
   "cell_type": "code",
   "execution_count": 9,
   "id": "5d47caee",
   "metadata": {},
   "outputs": [
    {
     "name": "stdout",
     "output_type": "stream",
     "text": [
      "======================================================================================================================================================\n",
      "ㅁ left :  {1}\n",
      "ㅁ right :  {1, 2, 3, 4}\n",
      "======================================================================================================================================================\n",
      "ㅁ left :  {1, 2}\n",
      "ㅁ right :  {1, 2, 3, 4}\n",
      "======================================================================================================================================================\n",
      "ㅁ left :  {1, 2}\n",
      "ㅁ right :  {1, 2, 3, 4}\n",
      "======================================================================================================================================================\n",
      "ㅁ left :  {1, 2, 3}\n",
      "ㅁ right :  {1, 2, 4}\n",
      "======================================================================================================================================================\n",
      "ㅁ left :  {1, 2, 3}\n",
      "ㅁ right :  {1, 2, 4}\n",
      "======================================================================================================================================================\n",
      "ㅁ left :  {1, 2, 3, 4}\n",
      "ㅁ right :  {1, 2}\n",
      "======================================================================================================================================================\n",
      "ㅁ left :  {1, 2, 3, 4}\n",
      "ㅁ right :  {2}\n"
     ]
    },
    {
     "data": {
      "text/plain": [
       "2"
      ]
     },
     "execution_count": 9,
     "metadata": {},
     "output_type": "execute_result"
    }
   ],
   "source": [
    "topping = [1, 2, 1, 3, 1, 4, 1, 2]\n",
    "solution(topping)"
   ]
  },
  {
   "cell_type": "code",
   "execution_count": 17,
   "id": "fca32bb8",
   "metadata": {},
   "outputs": [],
   "source": [
    "from collections import defaultdict\n",
    "\n",
    "def solution(topping):\n",
    "    answer = 0\n",
    "    left = defaultdict(int)\n",
    "    right = defaultdict(int)\n",
    "\n",
    "    for t in topping:\n",
    "        right[t] += 1  # 먼저 전체를 오른쪽에 넣음\n",
    "\n",
    "    for t in topping:\n",
    "        left[t] += 1           # 왼쪽으로 하나 이동\n",
    "        right[t] -= 1          # 오른쪽에서 제거\n",
    "        if right[t] == 0:\n",
    "            del right[t]       # 더 이상 없으면 삭제\n",
    "\n",
    "        if len(left) == len(right):\n",
    "            answer += 1\n",
    "        print('=' * 150)\n",
    "        print('ㅁ left : ', left)\n",
    "        print('ㅁ right : ', right)\n",
    "    return answer\n"
   ]
  },
  {
   "cell_type": "code",
   "execution_count": 18,
   "id": "d35b60e4",
   "metadata": {},
   "outputs": [
    {
     "name": "stdout",
     "output_type": "stream",
     "text": [
      "======================================================================================================================================================\n",
      "ㅁ left :  defaultdict(<class 'int'>, {1: 1})\n",
      "ㅁ right :  defaultdict(<class 'int'>, {1: 3, 2: 2, 3: 1, 4: 1})\n",
      "======================================================================================================================================================\n",
      "ㅁ left :  defaultdict(<class 'int'>, {1: 1, 2: 1})\n",
      "ㅁ right :  defaultdict(<class 'int'>, {1: 3, 2: 1, 3: 1, 4: 1})\n",
      "======================================================================================================================================================\n",
      "ㅁ left :  defaultdict(<class 'int'>, {1: 2, 2: 1})\n",
      "ㅁ right :  defaultdict(<class 'int'>, {1: 2, 2: 1, 3: 1, 4: 1})\n",
      "======================================================================================================================================================\n",
      "ㅁ left :  defaultdict(<class 'int'>, {1: 2, 2: 1, 3: 1})\n",
      "ㅁ right :  defaultdict(<class 'int'>, {1: 2, 2: 1, 4: 1})\n",
      "======================================================================================================================================================\n",
      "ㅁ left :  defaultdict(<class 'int'>, {1: 3, 2: 1, 3: 1})\n",
      "ㅁ right :  defaultdict(<class 'int'>, {1: 1, 2: 1, 4: 1})\n",
      "======================================================================================================================================================\n",
      "ㅁ left :  defaultdict(<class 'int'>, {1: 3, 2: 1, 3: 1, 4: 1})\n",
      "ㅁ right :  defaultdict(<class 'int'>, {1: 1, 2: 1})\n",
      "======================================================================================================================================================\n",
      "ㅁ left :  defaultdict(<class 'int'>, {1: 4, 2: 1, 3: 1, 4: 1})\n",
      "ㅁ right :  defaultdict(<class 'int'>, {2: 1})\n",
      "======================================================================================================================================================\n",
      "ㅁ left :  defaultdict(<class 'int'>, {1: 4, 2: 2, 3: 1, 4: 1})\n",
      "ㅁ right :  defaultdict(<class 'int'>, {})\n"
     ]
    },
    {
     "data": {
      "text/plain": [
       "2"
      ]
     },
     "execution_count": 18,
     "metadata": {},
     "output_type": "execute_result"
    }
   ],
   "source": [
    "topping = [1, 2, 1, 3, 1, 4, 1, 2]\n",
    "solution(topping)"
   ]
  },
  {
   "cell_type": "code",
   "execution_count": null,
   "id": "0516ec92",
   "metadata": {},
   "outputs": [],
   "source": []
  }
 ],
 "metadata": {
  "kernelspec": {
   "display_name": "upstage_api_test",
   "language": "python",
   "name": "python3"
  },
  "language_info": {
   "codemirror_mode": {
    "name": "ipython",
    "version": 3
   },
   "file_extension": ".py",
   "mimetype": "text/x-python",
   "name": "python",
   "nbconvert_exporter": "python",
   "pygments_lexer": "ipython3",
   "version": "3.10.16"
  }
 },
 "nbformat": 4,
 "nbformat_minor": 5
}
