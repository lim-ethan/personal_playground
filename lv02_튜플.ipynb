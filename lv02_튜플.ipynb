{
 "cells": [
  {
   "cell_type": "code",
   "execution_count": null,
   "id": "d8951095",
   "metadata": {},
   "outputs": [],
   "source": [
    "import ast\n",
    "import collections\n",
    "\n",
    "def solution(s):\n",
    "    s = ast.literal_eval(s.replace('{{', '[{').replace('}}', '}]').replace('{', '[').replace('}', ']'))\n",
    "    size = [len(i) for i in s]\n",
    "    mapping = {size[i] : s[i] for i in range(len(size))}\n",
    "    sorted_list = sorted(size)\n",
    "    queue = collections.deque()\n",
    "    for element in sorted_list : \n",
    "        for m in mapping[element] : \n",
    "            if m not in queue : \n",
    "                queue.append(m)\n",
    "    # map_cnt = collections.Counter(mapping)\n",
    "    return queue"
   ]
  },
  {
   "cell_type": "code",
   "execution_count": 56,
   "id": "5a47bdb9",
   "metadata": {},
   "outputs": [
    {
     "data": {
      "text/plain": [
       "deque([3, 2, 4, 1])"
      ]
     },
     "execution_count": 56,
     "metadata": {},
     "output_type": "execute_result"
    }
   ],
   "source": [
    "solution(\"{{4,2,3},{3},{2,3,4,1},{2,3}}\")\n"
   ]
  },
  {
   "cell_type": "code",
   "execution_count": null,
   "id": "6d41cfad",
   "metadata": {},
   "outputs": [],
   "source": []
  },
  {
   "cell_type": "code",
   "execution_count": null,
   "id": "d56bc09b",
   "metadata": {},
   "outputs": [],
   "source": []
  },
  {
   "cell_type": "markdown",
   "id": "40efab73",
   "metadata": {},
   "source": []
  },
  {
   "cell_type": "code",
   "execution_count": null,
   "id": "17f6dc00",
   "metadata": {},
   "outputs": [],
   "source": []
  },
  {
   "cell_type": "code",
   "execution_count": null,
   "id": "162c76d9",
   "metadata": {},
   "outputs": [],
   "source": []
  },
  {
   "cell_type": "code",
   "execution_count": null,
   "metadata": {},
   "outputs": [],
   "source": []
  }
 ],
 "metadata": {
  "kernelspec": {
   "display_name": "upstage_api_test",
   "language": "python",
   "name": "python3"
  },
  "language_info": {
   "codemirror_mode": {
    "name": "ipython",
    "version": 3
   },
   "file_extension": ".py",
   "mimetype": "text/x-python",
   "name": "python",
   "nbconvert_exporter": "python",
   "pygments_lexer": "ipython3",
   "version": "3.10.16"
  }
 },
 "nbformat": 4,
 "nbformat_minor": 5
}
