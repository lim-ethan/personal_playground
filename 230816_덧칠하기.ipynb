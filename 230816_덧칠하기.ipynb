{
 "cells": [
  {
   "cell_type": "code",
   "execution_count": 1,
   "metadata": {},
   "outputs": [],
   "source": [
    "def solution(n, m, section):\n",
    "    answer = 0\n",
    "    return answer\n",
    "\n"
   ]
  },
  {
   "cell_type": "code",
   "execution_count": 1,
   "metadata": {},
   "outputs": [
    {
     "name": "stdout",
     "output_type": "stream",
     "text": [
      "1\n"
     ]
    }
   ],
   "source": [
    "n = 4\n",
    "m = 2\n",
    "section = [3, 4]\n",
    "\n",
    "new_list = ['O' for i in range(n + 1)]\n",
    "for sec in section:\n",
    "    new_list[sec - 1] = 'X'\n",
    "\n",
    "result = 0\n",
    "current_index = 0\n",
    "\n",
    "while current_index < n:\n",
    "    if new_list[current_index] == 'X':\n",
    "        for i in range(m):\n",
    "            if current_index + i < n:\n",
    "                new_list[current_index + i] = 'O'\n",
    "        result += 1\n",
    "    else:\n",
    "        current_index += 1\n",
    "\n",
    "print(result)\n"
   ]
  },
  {
   "cell_type": "code",
   "execution_count": null,
   "metadata": {},
   "outputs": [],
   "source": []
  }
 ],
 "metadata": {
  "kernelspec": {
   "display_name": "base",
   "language": "python",
   "name": "python3"
  },
  "language_info": {
   "codemirror_mode": {
    "name": "ipython",
    "version": 3
   },
   "file_extension": ".py",
   "mimetype": "text/x-python",
   "name": "python",
   "nbconvert_exporter": "python",
   "pygments_lexer": "ipython3",
   "version": "3.9.7"
  },
  "orig_nbformat": 4
 },
 "nbformat": 4,
 "nbformat_minor": 2
}
