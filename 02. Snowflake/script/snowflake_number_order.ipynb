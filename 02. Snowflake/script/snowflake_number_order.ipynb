{
 "cells": [
  {
   "cell_type": "code",
   "execution_count": 1,
   "id": "26dbae6d",
   "metadata": {},
   "outputs": [],
   "source": [
    "import pandas as pd"
   ]
  },
  {
   "cell_type": "code",
   "execution_count": 5,
   "id": "3a233731",
   "metadata": {},
   "outputs": [],
   "source": [
    "df = pd.read_excel('./snowflake_exam.xlsx')"
   ]
  },
  {
   "cell_type": "code",
   "execution_count": 8,
   "id": "8e037f40",
   "metadata": {},
   "outputs": [],
   "source": [
    "df = df[[i for i in df.columns if 'Unnamed' not in i]]"
   ]
  },
  {
   "cell_type": "code",
   "execution_count": 13,
   "id": "466e3cfc",
   "metadata": {},
   "outputs": [],
   "source": [
    "df.sort_values('No').to_excel('./snowflake_exam_order.xlsx')"
   ]
  }
 ],
 "metadata": {
  "kernelspec": {
   "display_name": "upstage_api_test",
   "language": "python",
   "name": "python3"
  },
  "language_info": {
   "codemirror_mode": {
    "name": "ipython",
    "version": 3
   },
   "file_extension": ".py",
   "mimetype": "text/x-python",
   "name": "python",
   "nbconvert_exporter": "python",
   "pygments_lexer": "ipython3",
   "version": "3.10.16"
  }
 },
 "nbformat": 4,
 "nbformat_minor": 5
}
