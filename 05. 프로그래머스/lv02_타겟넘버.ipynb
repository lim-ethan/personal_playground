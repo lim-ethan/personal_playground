{
 "cells": [
  {
   "cell_type": "markdown",
   "id": "b0cf60d5",
   "metadata": {},
   "source": [
    "BFS"
   ]
  },
  {
   "cell_type": "code",
   "execution_count": 12,
   "id": "2a16249d",
   "metadata": {},
   "outputs": [],
   "source": [
    "import collections\n",
    "def solution(numbers, target):\n",
    "    answer = 0\n",
    "    queue = collections.deque()\n",
    "    queue.append((0, 0))\n",
    "    \n",
    "    while queue : \n",
    "        current_sum, index = queue.pop()\n",
    "        # print('ㅁ CURRENT SUM : ', current_sum, '   INDEX : ', index)\n",
    "        if index == len(numbers):\n",
    "            if current_sum == target:\n",
    "                answer += 1\n",
    "        \n",
    "        else :\n",
    "            queue.append((current_sum + (numbers[index]*-1), index + 1))\n",
    "            queue.append((current_sum + numbers[index], index + 1))\n",
    "    return answer"
   ]
  },
  {
   "cell_type": "code",
   "execution_count": 13,
   "id": "e361bf2f",
   "metadata": {},
   "outputs": [],
   "source": [
    "numbers = [1, 1, 1, 1, 1]\n",
    "target = 3"
   ]
  },
  {
   "cell_type": "markdown",
   "id": "37a3af3c",
   "metadata": {},
   "source": [
    "DFS"
   ]
  },
  {
   "cell_type": "code",
   "execution_count": 14,
   "id": "762074ee",
   "metadata": {},
   "outputs": [
    {
     "data": {
      "text/plain": [
       "5"
      ]
     },
     "execution_count": 14,
     "metadata": {},
     "output_type": "execute_result"
    }
   ],
   "source": [
    "solution(numbers, target)"
   ]
  },
  {
   "cell_type": "code",
   "execution_count": 17,
   "id": "9be5f363",
   "metadata": {},
   "outputs": [],
   "source": [
    "import collections\n",
    "def solution(numbers, target):\n",
    "    answer = 0\n",
    "    \n",
    "    def dfs(current_sum, index) : \n",
    "        nonlocal answer\n",
    "        if len(numbers) == index :\n",
    "            if target == current_sum : \n",
    "                answer += 1\n",
    "        else : \n",
    "            dfs(current_sum + numbers[index], index + 1)\n",
    "            dfs(current_sum + (-1 * numbers[index]), index + 1)\n",
    "    dfs(0, 0)\n",
    "    return answer"
   ]
  },
  {
   "cell_type": "code",
   "execution_count": 18,
   "id": "6ba1707b",
   "metadata": {},
   "outputs": [
    {
     "data": {
      "text/plain": [
       "5"
      ]
     },
     "execution_count": 18,
     "metadata": {},
     "output_type": "execute_result"
    }
   ],
   "source": [
    "solution(numbers, target)"
   ]
  },
  {
   "cell_type": "code",
   "execution_count": null,
   "id": "bfec215b",
   "metadata": {},
   "outputs": [],
   "source": []
  }
 ],
 "metadata": {
  "kernelspec": {
   "display_name": "upstage_api_test",
   "language": "python",
   "name": "python3"
  },
  "language_info": {
   "codemirror_mode": {
    "name": "ipython",
    "version": 3
   },
   "file_extension": ".py",
   "mimetype": "text/x-python",
   "name": "python",
   "nbconvert_exporter": "python",
   "pygments_lexer": "ipython3",
   "version": "3.10.16"
  }
 },
 "nbformat": 4,
 "nbformat_minor": 5
}
