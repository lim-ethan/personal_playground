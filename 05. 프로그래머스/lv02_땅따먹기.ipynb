{
 "cells": [
  {
   "cell_type": "code",
   "execution_count": null,
   "id": "a288a488",
   "metadata": {},
   "outputs": [],
   "source": []
  },
  {
   "cell_type": "code",
   "execution_count": null,
   "id": "4be6e3f6",
   "metadata": {},
   "outputs": [],
   "source": [
    "max_result = 0"
   ]
  },
  {
   "cell_type": "code",
   "execution_count": 17,
   "id": "80b30b49",
   "metadata": {},
   "outputs": [],
   "source": [
    "land = [[1,2,3,5],[5,6,7,8],[4,3,2,1]]"
   ]
  },
  {
   "cell_type": "code",
   "execution_count": null,
   "id": "828ef41c",
   "metadata": {},
   "outputs": [
    {
     "name": "stdout",
     "output_type": "stream",
     "text": [
      "> now dp : \n",
      " [[1, 2, 3, 5], [0, 0, 0, 0], [0, 0, 0, 0]]\n",
      "====================================================================================================\n",
      "  i :  1   j :  0\n",
      "> now dp : \n",
      " [[1, 2, 3, 5], [10, 0, 0, 0], [0, 0, 0, 0]]\n",
      "====================================================================================================\n",
      "  i :  1   j :  1\n",
      "> now dp : \n",
      " [[1, 2, 3, 5], [10, 11, 0, 0], [0, 0, 0, 0]]\n",
      "====================================================================================================\n",
      "  i :  1   j :  2\n",
      "> now dp : \n",
      " [[1, 2, 3, 5], [10, 11, 12, 0], [0, 0, 0, 0]]\n",
      "====================================================================================================\n",
      "  i :  1   j :  3\n",
      "> now dp : \n",
      " [[1, 2, 3, 5], [10, 11, 12, 11], [0, 0, 0, 0]]\n",
      "====================================================================================================\n",
      "  i :  2   j :  0\n",
      "> now dp : \n",
      " [[1, 2, 3, 5], [10, 11, 12, 11], [16, 0, 0, 0]]\n",
      "====================================================================================================\n",
      "  i :  2   j :  1\n",
      "> now dp : \n",
      " [[1, 2, 3, 5], [10, 11, 12, 11], [16, 15, 0, 0]]\n",
      "====================================================================================================\n",
      "  i :  2   j :  2\n",
      "> now dp : \n",
      " [[1, 2, 3, 5], [10, 11, 12, 11], [16, 15, 13, 0]]\n",
      "====================================================================================================\n",
      "  i :  2   j :  3\n",
      "> now dp : \n",
      " [[1, 2, 3, 5], [10, 11, 12, 11], [16, 15, 13, 13]]\n"
     ]
    }
   ],
   "source": [
    "dp = [[0]*4 for _ in range(len(land))]\n",
    "N = len(land)\n",
    "dp[0] = land[0]\n",
    "print('> now dp : \\n', dp)\n",
    "for i in range(1, N):\n",
    "    for j in range(4):\n",
    "        dp[i][j] = land[i][j] + max(dp[i-1][k] for k in range(4) if k != j) # 이전 index\n",
    "        print('='*100)\n",
    "        print('  i : ', i, '  j : ', j)\n",
    "        print('> now dp : \\n', dp)\n"
   ]
  },
  {
   "cell_type": "code",
   "execution_count": 16,
   "id": "97af65d9",
   "metadata": {},
   "outputs": [
    {
     "data": {
      "text/plain": [
       "16"
      ]
     },
     "execution_count": 16,
     "metadata": {},
     "output_type": "execute_result"
    }
   ],
   "source": [
    "max(dp[N-1])"
   ]
  },
  {
   "cell_type": "code",
   "execution_count": null,
   "id": "8b40d654",
   "metadata": {},
   "outputs": [
    {
     "data": {
      "text/plain": [
       "[[1, 2, 3, 5], [10, 11, 12, 11], [16, 15, 13, 13], [19, 19, 18, 17]]"
      ]
     },
     "execution_count": 12,
     "metadata": {},
     "output_type": "execute_result"
    }
   ],
   "source": [
    "# i번째 행, j열\n",
    "best_previous = 0\n",
    "for k in range(4):\n",
    "    if k != j:                  # 이전 행에서 j열 제외\n",
    "        best_previous = max(best_previous, dp[i-1][k])\n",
    "\n",
    "dp[i][j] = land[i][j] + best_previous"
   ]
  },
  {
   "cell_type": "code",
   "execution_count": null,
   "id": "d833d2cb",
   "metadata": {},
   "outputs": [],
   "source": []
  }
 ],
 "metadata": {
  "kernelspec": {
   "display_name": "upstage_api_test",
   "language": "python",
   "name": "python3"
  },
  "language_info": {
   "codemirror_mode": {
    "name": "ipython",
    "version": 3
   },
   "file_extension": ".py",
   "mimetype": "text/x-python",
   "name": "python",
   "nbconvert_exporter": "python",
   "pygments_lexer": "ipython3",
   "version": "3.10.16"
  }
 },
 "nbformat": 4,
 "nbformat_minor": 5
}
