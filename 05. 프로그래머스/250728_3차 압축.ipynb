{
 "cells": [
  {
   "cell_type": "code",
   "execution_count": null,
   "id": "adcf76e8",
   "metadata": {},
   "outputs": [],
   "source": [
    "from collections import deque\n",
    "\n",
    "def solution(msg):\n",
    "    base_dict = {chr(i + 64): i for i in range(1, 27)}\n",
    "    base_max_index = 26\n",
    "\n",
    "    queue = deque(msg)\n",
    "    answer = []\n",
    "\n",
    "    w = queue.popleft()\n",
    "\n",
    "    while queue:\n",
    "        c = queue.popleft()\n",
    "        wc = w + c\n",
    "        if wc in base_dict:\n",
    "            w = wc\n",
    "        else:\n",
    "            answer.append(base_dict[w])\n",
    "            base_max_index += 1\n",
    "            base_dict[wc] = base_max_index\n",
    "            w = c\n",
    "\n",
    "    if w:\n",
    "        answer.append(base_dict[w])\n",
    "\n",
    "    return answer\n"
   ]
  },
  {
   "cell_type": "code",
   "execution_count": 14,
   "id": "21315a74",
   "metadata": {},
   "outputs": [
    {
     "data": {
      "text/plain": [
       "[11, 1, 27, 15]"
      ]
     },
     "execution_count": 14,
     "metadata": {},
     "output_type": "execute_result"
    }
   ],
   "source": [
    "msg = 'KAKAO'\n",
    "solution(msg)"
   ]
  },
  {
   "cell_type": "code",
   "execution_count": null,
   "id": "d58eaa2f",
   "metadata": {},
   "outputs": [],
   "source": []
  },
  {
   "cell_type": "code",
   "execution_count": null,
   "id": "48630c81",
   "metadata": {},
   "outputs": [],
   "source": []
  }
 ],
 "metadata": {
  "kernelspec": {
   "display_name": "upstage_api_test",
   "language": "python",
   "name": "python3"
  },
  "language_info": {
   "codemirror_mode": {
    "name": "ipython",
    "version": 3
   },
   "file_extension": ".py",
   "mimetype": "text/x-python",
   "name": "python",
   "nbconvert_exporter": "python",
   "pygments_lexer": "ipython3",
   "version": "3.10.16"
  }
 },
 "nbformat": 4,
 "nbformat_minor": 5
}
