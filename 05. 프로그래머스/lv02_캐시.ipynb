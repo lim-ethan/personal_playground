{
 "cells": [
  {
   "cell_type": "code",
   "execution_count": null,
   "id": "15bc46a8",
   "metadata": {},
   "outputs": [],
   "source": [
    "import collections\n",
    "\n",
    "def solution(cache_size, cities) : \n",
    "\n",
    "    queue = collections.deque()\n",
    "    cities = [str(i).lower() for i in cities]\n",
    "    runtime = 0\n",
    "\n",
    "    for city in cities : \n",
    "        if city.lower() in queue : \n",
    "            runtime += 1 #cache hit!\n",
    "            queue.remove(city)\n",
    "            queue.append(city)\n",
    "        else : \n",
    "            queue.append(city)\n",
    "            runtime += 5\n",
    "            if len(queue) > cache_size : \n",
    "                queue.popleft()\n",
    "\n",
    "    return runtime"
   ]
  },
  {
   "cell_type": "code",
   "execution_count": 10,
   "id": "9b3803f9",
   "metadata": {},
   "outputs": [
    {
     "data": {
      "text/plain": [
       "50"
      ]
     },
     "execution_count": 10,
     "metadata": {},
     "output_type": "execute_result"
    }
   ],
   "source": [
    "cache_size = 3\n",
    "cities = [\"Jeju\", \"Pangyo\", \"Seoul\", \"NewYork\", \"LA\", \"Jeju\", \"Pangyo\", \"Seoul\", \"NewYork\", \"LA\"]\n",
    "solution(cache_size, cities)"
   ]
  },
  {
   "cell_type": "code",
   "execution_count": null,
   "id": "710307f7",
   "metadata": {},
   "outputs": [],
   "source": []
  }
 ],
 "metadata": {
  "kernelspec": {
   "display_name": "upstage_api_test",
   "language": "python",
   "name": "python3"
  },
  "language_info": {
   "codemirror_mode": {
    "name": "ipython",
    "version": 3
   },
   "file_extension": ".py",
   "mimetype": "text/x-python",
   "name": "python",
   "nbconvert_exporter": "python",
   "pygments_lexer": "ipython3",
   "version": "3.10.16"
  }
 },
 "nbformat": 4,
 "nbformat_minor": 5
}
