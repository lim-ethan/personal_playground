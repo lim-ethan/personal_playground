{
 "cells": [
  {
   "cell_type": "markdown",
   "id": "fa3a98d9",
   "metadata": {},
   "source": [
    "### 내가 최초로 작성한 코드"
   ]
  },
  {
   "cell_type": "code",
   "execution_count": null,
   "id": "4b82bba6",
   "metadata": {},
   "outputs": [],
   "source": [
    "def solution(s) : \n",
    "    start_num = 1\n",
    "    ans = 0\n",
    "    while True : \n",
    "\n",
    "        if start_num > s : \n",
    "            break\n",
    "        \n",
    "        sum_result = 0\n",
    "        for i in range(start_num, s + 1) : \n",
    "            sum_result += i\n",
    "            if sum_result == s : \n",
    "                ans += 1\n",
    "                break\n",
    "        \n",
    "        start_num += 1\n",
    "    return ans + 1"
   ]
  },
  {
   "cell_type": "markdown",
   "id": "5ccedeeb",
   "metadata": {},
   "source": [
    "### 코드리뷰"
   ]
  },
  {
   "cell_type": "code",
   "execution_count": null,
   "id": "aee9f683",
   "metadata": {},
   "outputs": [],
   "source": [
    "def solution(s) : \n",
    "    start_num = 1\n",
    "    ans = 0\n",
    "    while start_num <= s : \n",
    "        sum_result = 0\n",
    "        for i in range(start_num, s+1) : # 우선 내가 도달해야 하는 최종 숫자도 range에 포함되어야 함\n",
    "            sum_result += i\n",
    "\n",
    "            if sum_result == s : # 만약 for문 내에서 연속되는 숫자를 더한 값이 최종 도달해야 하는 숫자와 동일하다면 count 추가\n",
    "                ans += 1\n",
    "                break\n",
    "            \n",
    "            # ㅁㅁㅁㅁㅁㅁㅁㅁㅁ   여기가 내가 놓친 부분 ㅁㅁㅁㅁㅁㅁㅁㅁㅁ\n",
    "            elif sum_result > s: # 루프의 전체 합이 s를 넘어가면 break \n",
    "                break\n",
    "            \n",
    "        start_num += 1\n",
    "    return ans\n"
   ]
  },
  {
   "cell_type": "code",
   "execution_count": 11,
   "id": "52895406",
   "metadata": {},
   "outputs": [
    {
     "data": {
      "text/plain": [
       "4"
      ]
     },
     "execution_count": 11,
     "metadata": {},
     "output_type": "execute_result"
    }
   ],
   "source": [
    "solution(15)"
   ]
  },
  {
   "cell_type": "code",
   "execution_count": null,
   "id": "0025359e",
   "metadata": {},
   "outputs": [],
   "source": []
  }
 ],
 "metadata": {
  "kernelspec": {
   "display_name": "upstage_api_test",
   "language": "python",
   "name": "python3"
  },
  "language_info": {
   "codemirror_mode": {
    "name": "ipython",
    "version": 3
   },
   "file_extension": ".py",
   "mimetype": "text/x-python",
   "name": "python",
   "nbconvert_exporter": "python",
   "pygments_lexer": "ipython3",
   "version": "3.10.16"
  }
 },
 "nbformat": 4,
 "nbformat_minor": 5
}
