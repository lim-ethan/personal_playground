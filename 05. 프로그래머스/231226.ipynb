{
 "cells": [
  {
   "cell_type": "code",
   "execution_count": 56,
   "metadata": {},
   "outputs": [],
   "source": [
    "def solution(board, h, w):\n",
    "    answer = 0\n",
    "    delta_x = [1, -1, 0, 0]  # 우 / 좌 / 하 / 상\n",
    "    delta_y = [0, 0, 1, -1]\n",
    "    check_color = board[h][w]\n",
    "    \n",
    "    for i in range(len(delta_x)):\n",
    "        new_h = h + delta_x[i]\n",
    "        new_w = w + delta_y[i]\n",
    "        \n",
    "        if new_h < 0 or new_h >= len(board) or new_w < 0 or new_w >= len(board[0]):\n",
    "            continue\n",
    "        else:\n",
    "            if board[new_h][new_w] == check_color:\n",
    "                answer += 1\n",
    "                \n",
    "    return answer\n"
   ]
  },
  {
   "cell_type": "code",
   "execution_count": 57,
   "metadata": {},
   "outputs": [],
   "source": [
    "board = [[\"blue\", \"red\", \"orange\", \"red\"], \n",
    "         [\"red\", \"red\", \"blue\", \"orange\"], \n",
    "         [\"blue\", \"orange\", \"red\", \"red\"], \n",
    "         [\"orange\", \"orange\", \"red\", \"blue\"]]"
   ]
  },
  {
   "cell_type": "code",
   "execution_count": 58,
   "metadata": {},
   "outputs": [
    {
     "data": {
      "text/plain": [
       "2"
      ]
     },
     "execution_count": 58,
     "metadata": {},
     "output_type": "execute_result"
    }
   ],
   "source": [
    "solution(board, 1, 1)"
   ]
  },
  {
   "cell_type": "code",
   "execution_count": 59,
   "metadata": {},
   "outputs": [
    {
     "data": {
      "text/plain": [
       "1"
      ]
     },
     "execution_count": 59,
     "metadata": {},
     "output_type": "execute_result"
    }
   ],
   "source": [
    "board = [[\"yellow\", \"green\", \"blue\"], [\"blue\", \"green\", \"yellow\"], [\"yellow\", \"blue\", \"blue\"]]\n",
    "solution(board, 0, 1)"
   ]
  },
  {
   "cell_type": "code",
   "execution_count": null,
   "metadata": {},
   "outputs": [],
   "source": []
  },
  {
   "cell_type": "code",
   "execution_count": null,
   "metadata": {},
   "outputs": [],
   "source": []
  }
 ],
 "metadata": {
  "kernelspec": {
   "display_name": "base",
   "language": "python",
   "name": "python3"
  },
  "language_info": {
   "codemirror_mode": {
    "name": "ipython",
    "version": 3
   },
   "file_extension": ".py",
   "mimetype": "text/x-python",
   "name": "python",
   "nbconvert_exporter": "python",
   "pygments_lexer": "ipython3",
   "version": "3.9.7"
  }
 },
 "nbformat": 4,
 "nbformat_minor": 2
}
