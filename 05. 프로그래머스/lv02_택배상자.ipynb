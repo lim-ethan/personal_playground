{
 "cells": [
  {
   "cell_type": "code",
   "execution_count": 2,
   "id": "d54d158e",
   "metadata": {},
   "outputs": [],
   "source": [
    "from collections import deque"
   ]
  },
  {
   "cell_type": "code",
   "execution_count": 24,
   "id": "5178b65d",
   "metadata": {},
   "outputs": [],
   "source": [
    "truck = deque([5, 4, 3, 2, 1])\n",
    "box = [1, 2, 3, 4, 5]\n",
    "\n",
    "tmp = deque([])\n",
    "ans = []\n"
   ]
  },
  {
   "cell_type": "code",
   "execution_count": null,
   "id": "d5d67f72",
   "metadata": {},
   "outputs": [],
   "source": [
    "from collections import deque\n",
    "\n",
    "def solution(order):\n",
    "    q = deque(range(1, len(order)+1)) \n",
    "    stack = []\n",
    "    ans = []\n",
    "    i = 0\n",
    "\n",
    "    while q or stack:\n",
    "        if q and q[0] == order[i]:\n",
    "            ans.append(q.popleft())\n",
    "            i += 1\n",
    "\n",
    "        elif stack and stack[-1] == order[i]:\n",
    "            ans.append(stack.pop())\n",
    "            i += 1\n",
    "\n",
    "        elif q:\n",
    "            stack.append(q.popleft())\n",
    "        else:\n",
    "            break\n",
    "\n",
    "    return len(ans)\n"
   ]
  },
  {
   "cell_type": "code",
   "execution_count": 29,
   "id": "12111a56",
   "metadata": {},
   "outputs": [
    {
     "data": {
      "text/plain": [
       "[5, 4, 3, 2, 1]"
      ]
     },
     "execution_count": 29,
     "metadata": {},
     "output_type": "execute_result"
    }
   ],
   "source": [
    "ans"
   ]
  },
  {
   "cell_type": "code",
   "execution_count": null,
   "id": "9aa44239",
   "metadata": {},
   "outputs": [],
   "source": []
  }
 ],
 "metadata": {
  "kernelspec": {
   "display_name": "upstage_api_test",
   "language": "python",
   "name": "python3"
  },
  "language_info": {
   "codemirror_mode": {
    "name": "ipython",
    "version": 3
   },
   "file_extension": ".py",
   "mimetype": "text/x-python",
   "name": "python",
   "nbconvert_exporter": "python",
   "pygments_lexer": "ipython3",
   "version": "3.10.16"
  }
 },
 "nbformat": 4,
 "nbformat_minor": 5
}
