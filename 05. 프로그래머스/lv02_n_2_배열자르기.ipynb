{
 "cells": [
  {
   "cell_type": "code",
   "execution_count": null,
   "id": "208baf79",
   "metadata": {},
   "outputs": [],
   "source": [
    "# 최초 풀이 (시간초과) \n",
    "\n",
    "def solution(n, left, right):\n",
    "    result = []\n",
    "    for i in range(0, n) : \n",
    "        for j in range(0, n) : \n",
    "            if i < j :\n",
    "                result.append(j + 1)\n",
    "            else : \n",
    "                result.append(i + 1)\n",
    "    result = result[left:right + 1]\n",
    "    return result"
   ]
  },
  {
   "cell_type": "code",
   "execution_count": null,
   "id": "169b4f90",
   "metadata": {},
   "outputs": [],
   "source": [
    "def correct_solution(n, left, right):\n",
    "    result = []\n",
    "    for i in range(left, right + 1):\n",
    "        row = i // n\n",
    "        col = i % n\n",
    "        result.append(max(row, col) + 1)\n",
    "    return result"
   ]
  },
  {
   "cell_type": "code",
   "execution_count": 16,
   "id": "58eff3cb",
   "metadata": {},
   "outputs": [
    {
     "data": {
      "text/plain": [
       "[3, 2, 2, 3]"
      ]
     },
     "execution_count": 16,
     "metadata": {},
     "output_type": "execute_result"
    }
   ],
   "source": [
    "correct_solution(3, 2, 5)"
   ]
  }
 ],
 "metadata": {
  "kernelspec": {
   "display_name": "upstage_api_test",
   "language": "python",
   "name": "python3"
  },
  "language_info": {
   "codemirror_mode": {
    "name": "ipython",
    "version": 3
   },
   "file_extension": ".py",
   "mimetype": "text/x-python",
   "name": "python",
   "nbconvert_exporter": "python",
   "pygments_lexer": "ipython3",
   "version": "3.10.16"
  }
 },
 "nbformat": 4,
 "nbformat_minor": 5
}
