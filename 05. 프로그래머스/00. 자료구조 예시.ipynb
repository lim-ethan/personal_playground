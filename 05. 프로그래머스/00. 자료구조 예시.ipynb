{
 "cells": [
  {
   "cell_type": "markdown",
   "id": "37734aaf",
   "metadata": {},
   "source": [
    "LIST"
   ]
  },
  {
   "cell_type": "code",
   "execution_count": null,
   "id": "842bf269",
   "metadata": {},
   "outputs": [],
   "source": [
    "a = [i for i in range(1, 20)] # 1-1번 문제\n",
    "b = [i for i in range(1, 20) if i%3 == 0] # 1-2번 문제 "
   ]
  },
  {
   "cell_type": "code",
   "execution_count": null,
   "id": "eebd8589",
   "metadata": {},
   "outputs": [],
   "source": [
    "a = [1, 2, 3] \n",
    "a.extend([4, 5, 6]) # 3번 문제"
   ]
  },
  {
   "cell_type": "code",
   "execution_count": null,
   "id": "450d687c",
   "metadata": {},
   "outputs": [],
   "source": [
    "a = [10, 20, 30, 40, 50]\n",
    "a.remove(a[2]) # 4번 문제"
   ]
  },
  {
   "cell_type": "code",
   "execution_count": null,
   "id": "f0b92890",
   "metadata": {},
   "outputs": [],
   "source": [
    "a = [5, 3, 6, 2, 1] "
   ]
  },
  {
   "cell_type": "code",
   "execution_count": null,
   "id": "d37771db",
   "metadata": {},
   "outputs": [],
   "source": [
    "a = sorted(a) # 5번 문제"
   ]
  },
  {
   "cell_type": "markdown",
   "id": "60c88ea3",
   "metadata": {},
   "source": [
    "DICT"
   ]
  },
  {
   "cell_type": "code",
   "execution_count": 28,
   "id": "f042709c",
   "metadata": {},
   "outputs": [
    {
     "name": "stdout",
     "output_type": "stream",
     "text": [
      "90\n"
     ]
    }
   ],
   "source": [
    "a = {'Alice': 85, 'Bob': 90, 'Charlie': 78}\n",
    "print(a['Bob']) # 6번 문제"
   ]
  },
  {
   "cell_type": "code",
   "execution_count": null,
   "metadata": {},
   "outputs": [],
   "source": [
    "a['David'] = 92 # 7번 문제"
   ]
  },
  {
   "cell_type": "code",
   "execution_count": 31,
   "metadata": {},
   "outputs": [
    {
     "data": {
      "text/plain": [
       "{'Alice': 95, 'Bob': 100, 'Charlie': 88, 'David': 102}"
      ]
     },
     "execution_count": 31,
     "metadata": {},
     "output_type": "execute_result"
    }
   ],
   "source": [
    "b = {k:v+10 for k, v in a.items() } # 8번 문제\n",
    "b"
   ]
  },
  {
   "cell_type": "code",
   "execution_count": null,
   "id": "7a902728",
   "metadata": {},
   "outputs": [],
   "source": [
    "b = {k:v for k, v in b.items() if v >= 80} # 9번 문제"
   ]
  },
  {
   "cell_type": "code",
   "execution_count": 36,
   "id": "67855872",
   "metadata": {},
   "outputs": [
    {
     "data": {
      "text/plain": [
       "[88, 95, 100, 102]"
      ]
     },
     "execution_count": 36,
     "metadata": {},
     "output_type": "execute_result"
    }
   ],
   "source": [
    "sorted(b.values()) # 10번 문제 => 잘 모르겠음. (딕셔너리를 점수 기준으로 내림차순 정렬)"
   ]
  },
  {
   "cell_type": "markdown",
   "id": "3dc67aa2",
   "metadata": {},
   "source": [
    "SET"
   ]
  },
  {
   "cell_type": "code",
   "execution_count": 40,
   "id": "65641e20",
   "metadata": {},
   "outputs": [
    {
     "name": "stdout",
     "output_type": "stream",
     "text": [
      "{1, 2, 3, 4, 5, 6}\n",
      "{3, 4}\n",
      "{1, 2}\n",
      "{1, 2, 3}\n"
     ]
    }
   ],
   "source": [
    "a = {1,2,3,4}\n",
    "b = {3,4,5,6}\n",
    "\n",
    "print(a | b) # 11번 문제\n",
    "print(a & b) # 11번 문제\n",
    "print(a-b) # 12번 문제\n",
    "print(set({1,1,2,2,3,3})) #13번 문제"
   ]
  },
  {
   "cell_type": "markdown",
   "id": "8dd9ace9",
   "metadata": {},
   "source": [
    "DEQUE"
   ]
  },
  {
   "cell_type": "code",
   "execution_count": null,
   "id": "3440f00d",
   "metadata": {},
   "outputs": [
    {
     "data": {
      "text/plain": [
       "4"
      ]
     },
     "execution_count": 46,
     "metadata": {},
     "output_type": "execute_result"
    }
   ],
   "source": [
    "from collections import deque\n",
    "\n",
    "a = deque([1,2,3])\n",
    "a.appendleft(0) #14번 문제\n",
    "a.append(4)#14번 문제\n",
    "a.popleft()#15번 문제\n",
    "a.pop()#15번 문제\n"
   ]
  },
  {
   "cell_type": "code",
   "execution_count": null,
   "id": "71f94b8a",
   "metadata": {},
   "outputs": [],
   "source": [
    "import heapq\n",
    "\n",
    "a = [7,2,5,3,6]\n",
    "heapq.heapify(a)\n",
    "heapq.heappop(a)# 16번 문제"
   ]
  },
  {
   "cell_type": "code",
   "execution_count": null,
   "id": "ab76c8a1",
   "metadata": {},
   "outputs": [],
   "source": [
    "# 17, 18번은 모르겠음"
   ]
  },
  {
   "cell_type": "markdown",
   "id": "4d601bf8",
   "metadata": {},
   "source": [
    "복습\n"
   ]
  },
  {
   "cell_type": "markdown",
   "id": "bb1d17a9",
   "metadata": {},
   "source": [
    "a.items() → (key, value) 쌍 튜플 반환\n",
    "\n",
    "key=lambda x: x[1] → value 기준 정렬\n",
    "\n",
    "reverse=True → 내림차순"
   ]
  },
  {
   "cell_type": "code",
   "execution_count": null,
   "id": "7e50e20f",
   "metadata": {},
   "outputs": [],
   "source": [
    "a = {'Alice': 95, 'Bob': 85, 'Charlie': 90, 'David': 92}\n",
    "\n",
    "# 방법 1: sorted와 key 활용\n",
    "sorted_a = dict(sorted(a.items(), key=lambda x: x[1], reverse=True))\n",
    "print(sorted_a)\n",
    "# 출력: {'Alice': 95, 'David': 92, 'Charlie': 90, 'Bob': 85}"
   ]
  },
  {
   "cell_type": "markdown",
   "id": "4efe9f8f",
   "metadata": {},
   "source": [
    "Heapq 문제 17번: 최대 힙에서 최대값 꺼내기"
   ]
  },
  {
   "cell_type": "code",
   "execution_count": null,
   "id": "3dde702e",
   "metadata": {},
   "outputs": [],
   "source": [
    "import heapq\n",
    "\n",
    "a = [7, 2, 5, 3, 6]\n",
    "max_heap = [-x for x in a]   # 값 부호 반전\n",
    "heapq.heapify(max_heap)\n",
    "max_val = -heapq.heappop(max_heap)  # 원래 값으로 돌려서 최대값 출력\n",
    "print(max_val)  # 출력: 7\n"
   ]
  },
  {
   "cell_type": "markdown",
   "id": "e643ab56",
   "metadata": {},
   "source": [
    "Heapq 문제 18번: 리스트에서 상위 2개 값 추출"
   ]
  },
  {
   "cell_type": "code",
   "execution_count": 62,
   "id": "6bdc32de",
   "metadata": {},
   "outputs": [
    {
     "name": "stdout",
     "output_type": "stream",
     "text": [
      "[7, 4]\n",
      "[7, 4]\n"
     ]
    }
   ],
   "source": [
    "a = [4, 1, 7, 3]\n",
    "\n",
    "# 방법 1: heapq.nlargest 사용\n",
    "import heapq\n",
    "top2 = heapq.nlargest(2, a)\n",
    "print(top2)  # 출력: [7, 4]\n",
    "\n",
    "# 방법 2: 직접 최대 힙 만들기\n",
    "max_heap = [-x for x in a]\n",
    "heapq.heapify(max_heap)\n",
    "top2_2 = [-heapq.heappop(max_heap) for _ in range(2)]\n",
    "print(top2_2)  # 출력: [7, 4]"
   ]
  },
  {
   "cell_type": "code",
   "execution_count": null,
   "id": "b5e1a489",
   "metadata": {},
   "outputs": [],
   "source": []
  }
 ],
 "metadata": {
  "kernelspec": {
   "display_name": "upstage_api_test",
   "language": "python",
   "name": "python3"
  },
  "language_info": {
   "codemirror_mode": {
    "name": "ipython",
    "version": 3
   },
   "file_extension": ".py",
   "mimetype": "text/x-python",
   "name": "python",
   "nbconvert_exporter": "python",
   "pygments_lexer": "ipython3",
   "version": "3.10.16"
  }
 },
 "nbformat": 4,
 "nbformat_minor": 5
}
