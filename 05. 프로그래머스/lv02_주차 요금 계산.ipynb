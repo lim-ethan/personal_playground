{
 "cells": [
  {
   "cell_type": "code",
   "execution_count": 11,
   "id": "1efc93e1",
   "metadata": {},
   "outputs": [],
   "source": [
    "import pandas as pd"
   ]
  },
  {
   "cell_type": "code",
   "execution_count": 7,
   "id": "9ee592d6",
   "metadata": {},
   "outputs": [],
   "source": [
    "records = [\"05:34 5961 IN\", \n",
    "           \"06:00 0000 IN\", \n",
    "           \"06:34 0000 OUT\", \n",
    "           \"07:59 5961 OUT\", \n",
    "           \"07:59 0148 IN\", \n",
    "           \"18:59 0000 IN\", \n",
    "           \"19:09 0148 OUT\", \n",
    "           \"22:59 5961 IN\", \n",
    "           \"23:00 5961 OUT\"]"
   ]
  },
  {
   "cell_type": "code",
   "execution_count": null,
   "id": "cefa0085",
   "metadata": {},
   "outputs": [],
   "source": [
    "import math\n",
    "from collections import defaultdict\n",
    "\n",
    "def time_to_minutes(time_str):\n",
    "    h, m = map(int, time_str.split(\":\"))\n",
    "    return h * 60 + m\n",
    "\n",
    "def solution(fees, records):\n",
    "    base_time, base_fee, unit_time, unit_fee = fees\n",
    "    parking = defaultdict(list)\n",
    "\n",
    "    for record in records:\n",
    "        time, car, status = record.split()\n",
    "        parking[car].append((time_to_minutes(time), status))\n",
    "\n",
    "    for car in parking:\n",
    "        if len(parking[car]) % 2 == 1:\n",
    "            parking[car].append((time_to_minutes(\"23:59\"), \"OUT\"))\n",
    "\n",
    "    def total_minutes(car_records):\n",
    "        total = 0\n",
    "        for i in range(1, len(car_records), 2):\n",
    "            in_time, _ = car_records[i - 1]\n",
    "            out_time, _ = car_records[i]\n",
    "            total += out_time - in_time\n",
    "        return total\n",
    "\n",
    "    def calculate_fee(minutes):\n",
    "        if minutes <= base_time:\n",
    "            return base_fee\n",
    "        extra = math.ceil((minutes - base_time) / unit_time)\n",
    "        return base_fee + extra * unit_fee\n",
    "\n",
    "    answer = []\n",
    "    for car in sorted(parking.keys()):\n",
    "        minutes = total_minutes(parking[car])\n",
    "        fee = calculate_fee(minutes)\n",
    "        answer.append(fee)\n",
    "\n",
    "    return answer\n"
   ]
  },
  {
   "cell_type": "code",
   "execution_count": 2,
   "id": "cdb4e437",
   "metadata": {},
   "outputs": [
    {
     "name": "stdout",
     "output_type": "stream",
     "text": [
      "[14600, 34400, 5000]\n"
     ]
    }
   ],
   "source": [
    "fees = [180, 5000, 10, 600]\n",
    "records = [\n",
    "    \"05:34 5961 IN\",\n",
    "    \"06:00 0000 IN\",\n",
    "    \"06:34 0000 OUT\",\n",
    "    \"07:59 5961 OUT\",\n",
    "    \"07:59 0148 IN\",\n",
    "    \"18:59 0000 IN\",\n",
    "    \"19:09 0148 OUT\",\n",
    "    \"22:59 5961 IN\",\n",
    "    \"23:00 5961 OUT\"\n",
    "]\n",
    "\n",
    "print(solution(fees, records))  # [14600, 34400, 5000]"
   ]
  },
  {
   "cell_type": "code",
   "execution_count": null,
   "id": "bbf5818c",
   "metadata": {},
   "outputs": [],
   "source": []
  },
  {
   "cell_type": "code",
   "execution_count": null,
   "id": "8ba5ffd9",
   "metadata": {},
   "outputs": [],
   "source": []
  }
 ],
 "metadata": {
  "kernelspec": {
   "display_name": "upstage_api_test",
   "language": "python",
   "name": "python3"
  },
  "language_info": {
   "codemirror_mode": {
    "name": "ipython",
    "version": 3
   },
   "file_extension": ".py",
   "mimetype": "text/x-python",
   "name": "python",
   "nbconvert_exporter": "python",
   "pygments_lexer": "ipython3",
   "version": "3.10.16"
  }
 },
 "nbformat": 4,
 "nbformat_minor": 5
}
