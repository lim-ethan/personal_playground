{
 "cells": [
  {
   "cell_type": "code",
   "execution_count": 5,
   "id": "2667a67b",
   "metadata": {},
   "outputs": [],
   "source": [
    "def solution(files):\n",
    "    def split_file(file):\n",
    "        head, number, tail = '', '', ''\n",
    "        i = 0\n",
    "        # HEAD\n",
    "        while i < len(file) and not file[i].isdigit():\n",
    "            head += file[i]\n",
    "            i += 1\n",
    "        # NUMBER\n",
    "        while i < len(file) and file[i].isdigit():\n",
    "            number += file[i]\n",
    "            i += 1\n",
    "        # TAIL\n",
    "        tail = file[i:]\n",
    "        return head, number, tail\n",
    "\n",
    "    # 정렬 기준: HEAD (대소문자 구분 X), NUMBER (숫자 크기)\n",
    "    files.sort(key=lambda x: (split_file(x)[0].lower(), int(split_file(x)[1])))\n",
    "    return files\n"
   ]
  },
  {
   "cell_type": "code",
   "execution_count": 6,
   "id": "945233ae",
   "metadata": {},
   "outputs": [],
   "source": [
    "org = [\"F-5 Freedom Fighter\", \"B-50 Superfortress\", \"A-10 Thunderbolt II\", \"F-14 Tomcat\"]"
   ]
  },
  {
   "cell_type": "code",
   "execution_count": null,
   "id": "1e211fc5",
   "metadata": {},
   "outputs": [],
   "source": [
    "for o in org : \n",
    "    for c in o : \n",
    "        tmp_str = ''\n",
    "        tmp_num = ''\n",
    "        if c.isalpha() : \n",
    "            tmp_str += c\n",
    "        elif c.isnumeric() : \n",
    "            tmp_num += c\n",
    "\n",
    "        "
   ]
  },
  {
   "cell_type": "code",
   "execution_count": null,
   "id": "ae86d697",
   "metadata": {},
   "outputs": [],
   "source": []
  }
 ],
 "metadata": {
  "kernelspec": {
   "display_name": "upstage_api_test",
   "language": "python",
   "name": "python3"
  },
  "language_info": {
   "codemirror_mode": {
    "name": "ipython",
    "version": 3
   },
   "file_extension": ".py",
   "mimetype": "text/x-python",
   "name": "python",
   "nbconvert_exporter": "python",
   "pygments_lexer": "ipython3",
   "version": "3.10.16"
  }
 },
 "nbformat": 4,
 "nbformat_minor": 5
}
