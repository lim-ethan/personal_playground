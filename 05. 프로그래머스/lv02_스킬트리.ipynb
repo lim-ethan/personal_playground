{
 "cells": [
  {
   "cell_type": "code",
   "execution_count": 91,
   "id": "6d722dfb",
   "metadata": {},
   "outputs": [],
   "source": [
    "def solution(skill, skill_trees):\n",
    "    answer = 0\n",
    "    for st in skill_trees:\n",
    "        filtered = ''.join([s for s in st if s in skill])  # skill에 해당하는 것만 남기기\n",
    "        print('ㅁ filtered : ', filtered)\n",
    "        if skill.startswith(filtered):  # prefix 확인\n",
    "            answer += 1\n",
    "    return answer\n"
   ]
  },
  {
   "cell_type": "code",
   "execution_count": 92,
   "id": "d8f2ea18",
   "metadata": {},
   "outputs": [],
   "source": [
    "skill = \"CBD\"\n",
    "skill_trees = [\"BACDE\", \"CBADF\", \"AECB\", \"BDA\"]"
   ]
  },
  {
   "cell_type": "code",
   "execution_count": 93,
   "id": "fa5d7775",
   "metadata": {},
   "outputs": [
    {
     "name": "stdout",
     "output_type": "stream",
     "text": [
      "ㅁ filtered :  BCD\n",
      "ㅁ filtered :  CBD\n",
      "ㅁ filtered :  CB\n",
      "ㅁ filtered :  BD\n"
     ]
    },
    {
     "data": {
      "text/plain": [
       "2"
      ]
     },
     "execution_count": 93,
     "metadata": {},
     "output_type": "execute_result"
    }
   ],
   "source": [
    "solution(skill, skill_trees)\n"
   ]
  },
  {
   "cell_type": "code",
   "execution_count": null,
   "id": "da007521",
   "metadata": {},
   "outputs": [],
   "source": []
  }
 ],
 "metadata": {
  "kernelspec": {
   "display_name": "upstage_api_test",
   "language": "python",
   "name": "python3"
  },
  "language_info": {
   "codemirror_mode": {
    "name": "ipython",
    "version": 3
   },
   "file_extension": ".py",
   "mimetype": "text/x-python",
   "name": "python",
   "nbconvert_exporter": "python",
   "pygments_lexer": "ipython3",
   "version": "3.10.16"
  }
 },
 "nbformat": 4,
 "nbformat_minor": 5
}
