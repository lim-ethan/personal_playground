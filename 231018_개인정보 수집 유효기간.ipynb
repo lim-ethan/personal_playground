{
 "cells": [
  {
   "cell_type": "code",
   "execution_count": 1,
   "metadata": {},
   "outputs": [],
   "source": [
    "import datetime, time\n"
   ]
  },
  {
   "cell_type": "code",
   "execution_count": 91,
   "metadata": {},
   "outputs": [],
   "source": [
    "import datetime, time\n",
    "def solution(today, terms, privacies):\n",
    "    now_date = datetime.datetime.strptime(today, '%Y.%m.%d') # - datetime.timedelta(days =1)\n",
    "    docs_exp = {}\n",
    "    for term in terms : \n",
    "        key, val = term.split()\n",
    "        docs_exp[key] = val\n",
    "    check_docs = {}\n",
    "\n",
    "    for privacy in privacies : \n",
    "        key, val = privacy.split()\n",
    "        check_docs[key] = val\n",
    "    cnt = 1\n",
    "    res_list = []\n",
    "    for key in check_docs.keys() : \n",
    "        exp_month = docs_exp[check_docs[key]]\n",
    "        check_day = datetime.datetime.strptime(key, '%Y.%m.%d').day - 1\n",
    "        if check_day <= 0 : \n",
    "            temp_day = -1\n",
    "            check_day = 28\n",
    "        else : \n",
    "            temp_day = 0\n",
    "        check_month = datetime.datetime.strptime(key, '%Y.%m.%d').month + int(exp_month) + temp_day\n",
    "        temp_year = 0\n",
    "        if check_month > 12 : \n",
    "            temp_year = 1\n",
    "            check_month = check_month % 12\n",
    "        else : \n",
    "            temp_year = 0\n",
    "        check_year = datetime.datetime.strptime(key, '%Y.%m.%d').year + temp_year\n",
    "        check_date = str(check_year) + '.' + str(check_month).zfill(2) + '.' + str(check_day).zfill(2)\n",
    "        check_date = datetime.datetime.strptime(check_date, '%Y.%m.%d')\n",
    "        print(str(now_date), '   ' , str(check_date), '   ', exp_month)\n",
    "        if now_date > check_date : \n",
    "            res_list.append(cnt)\n",
    "        cnt += 1\n",
    "\n",
    "    return res_list"
   ]
  },
  {
   "cell_type": "code",
   "execution_count": 92,
   "metadata": {},
   "outputs": [
    {
     "name": "stdout",
     "output_type": "stream",
     "text": [
      "2020-01-01 00:00:00     2019-05-28 00:00:00     5\n",
      "2020-01-01 00:00:00     2020-02-14 00:00:00     3\n",
      "2020-01-01 00:00:00     2020-01-01 00:00:00     5\n",
      "2020-01-01 00:00:00     2019-11-28 00:00:00     5\n",
      "2020-01-01 00:00:00     2019-03-27 00:00:00     3\n"
     ]
    },
    {
     "data": {
      "text/plain": [
       "[1, 4, 5]"
      ]
     },
     "execution_count": 92,
     "metadata": {},
     "output_type": "execute_result"
    }
   ],
   "source": [
    "solution(\"2020.01.01\", [\"Z 3\", \"D 5\"], [\"2019.01.01 D\", \"2019.11.15 Z\", \"2019.08.02 D\", \"2019.07.01 D\", \"2018.12.28 Z\"])"
   ]
  },
  {
   "cell_type": "code",
   "execution_count": 93,
   "metadata": {},
   "outputs": [
    {
     "name": "stdout",
     "output_type": "stream",
     "text": [
      "2022-05-19 00:00:00     2021-11-01 00:00:00     6\n",
      "2022-05-19 00:00:00     2022-06-28 00:00:00     12\n",
      "2022-05-19 00:00:00     2022-05-18 00:00:00     3\n",
      "2022-05-19 00:00:00     2022-05-19 00:00:00     3\n"
     ]
    },
    {
     "data": {
      "text/plain": [
       "[1, 3]"
      ]
     },
     "execution_count": 93,
     "metadata": {},
     "output_type": "execute_result"
    }
   ],
   "source": [
    "solution(\"2022.05.19\", [\"A 6\", \"B 12\", \"C 3\"], [\"2021.05.02 A\", \"2021.07.01 B\", \"2022.02.19 C\", \"2022.02.20 C\"])"
   ]
  },
  {
   "cell_type": "code",
   "execution_count": null,
   "metadata": {},
   "outputs": [],
   "source": []
  },
  {
   "cell_type": "code",
   "execution_count": null,
   "metadata": {},
   "outputs": [],
   "source": []
  },
  {
   "cell_type": "code",
   "execution_count": null,
   "metadata": {},
   "outputs": [],
   "source": []
  }
 ],
 "metadata": {
  "kernelspec": {
   "display_name": "base",
   "language": "python",
   "name": "python3"
  },
  "language_info": {
   "codemirror_mode": {
    "name": "ipython",
    "version": 3
   },
   "file_extension": ".py",
   "mimetype": "text/x-python",
   "name": "python",
   "nbconvert_exporter": "python",
   "pygments_lexer": "ipython3",
   "version": "3.9.7"
  }
 },
 "nbformat": 4,
 "nbformat_minor": 2
}
