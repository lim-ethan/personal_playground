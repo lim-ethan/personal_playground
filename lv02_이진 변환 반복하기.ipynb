{
 "cells": [
  {
   "cell_type": "code",
   "execution_count": 2,
   "id": "67e3c0cc",
   "metadata": {},
   "outputs": [],
   "source": [
    "import collections"
   ]
  },
  {
   "cell_type": "code",
   "execution_count": 40,
   "id": "7c7f5356",
   "metadata": {},
   "outputs": [],
   "source": [
    "def solutions (s) : \n",
    "    answer = []\n",
    "    iter = 0\n",
    "    zero_cnt = 0\n",
    "\n",
    "    \n",
    "    while True : \n",
    "\n",
    "\n",
    "        now_zero_cnt = collections.Counter(s)['0']\n",
    "        zero_cnt += now_zero_cnt\n",
    "        mod_one_len = len(s) - now_zero_cnt\n",
    "        print('ㅁ s : ', s, '   total zero cnt : ',zero_cnt, '  mod_one : ', mod_one_len)\n",
    "        binary_info = format(mod_one_len, 'b')\n",
    "        s = str(binary_info)\n",
    "        iter += 1\n",
    "\n",
    "        if len(s) == 1 : \n",
    "            break\n",
    "    return [iter, zero_cnt]"
   ]
  },
  {
   "cell_type": "code",
   "execution_count": 41,
   "id": "e65502aa",
   "metadata": {},
   "outputs": [
    {
     "name": "stdout",
     "output_type": "stream",
     "text": [
      "ㅁ s :  01110    total zero cnt :  2   mod_one :  3\n",
      "ㅁ s :  11    total zero cnt :  2   mod_one :  2\n",
      "ㅁ s :  10    total zero cnt :  3   mod_one :  1\n"
     ]
    },
    {
     "data": {
      "text/plain": [
       "[3, 3]"
      ]
     },
     "execution_count": 41,
     "metadata": {},
     "output_type": "execute_result"
    }
   ],
   "source": [
    "solutions('01110')"
   ]
  },
  {
   "cell_type": "code",
   "execution_count": 14,
   "id": "25d88f10",
   "metadata": {},
   "outputs": [
    {
     "data": {
      "text/plain": [
       "7"
      ]
     },
     "execution_count": 14,
     "metadata": {},
     "output_type": "execute_result"
    }
   ],
   "source": [
    "int(int('111', 2))"
   ]
  },
  {
   "cell_type": "code",
   "execution_count": null,
   "id": "f12cec02",
   "metadata": {},
   "outputs": [],
   "source": []
  },
  {
   "cell_type": "code",
   "execution_count": null,
   "id": "5b535e9d",
   "metadata": {},
   "outputs": [],
   "source": []
  }
 ],
 "metadata": {
  "kernelspec": {
   "display_name": "upstage_api_test",
   "language": "python",
   "name": "python3"
  },
  "language_info": {
   "codemirror_mode": {
    "name": "ipython",
    "version": 3
   },
   "file_extension": ".py",
   "mimetype": "text/x-python",
   "name": "python",
   "nbconvert_exporter": "python",
   "pygments_lexer": "ipython3",
   "version": "3.10.16"
  }
 },
 "nbformat": 4,
 "nbformat_minor": 5
}
