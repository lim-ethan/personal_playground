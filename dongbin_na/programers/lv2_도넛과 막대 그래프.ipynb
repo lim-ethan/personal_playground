{
 "cells": [
  {
   "cell_type": "code",
   "execution_count": 56,
   "metadata": {},
   "outputs": [],
   "source": [
    "from collections import defaultdict, deque"
   ]
  },
  {
   "cell_type": "code",
   "execution_count": 74,
   "metadata": {},
   "outputs": [],
   "source": [
    "def solution(edges):\n",
    "    answer = [0, 0, 0, 0]\n",
    "    start, donut, bar, eight = 0, 1, 2, 3\n",
    "    graph = defaultdict(list)\n",
    "    # 0: 진출, 1: 진입\n",
    "    degrees = defaultdict(lambda: [0, 0])\n",
    "    print(degrees)\n",
    "    for edge in edges:\n",
    "        a, b = edge\n",
    "        graph[a].append(b)\n",
    "\n",
    "    for node, nodes in graph.items():\n",
    "        print(\"node : \", node) # node = index node number\n",
    "        print(\"nodes : \", nodes) # nodes = connected node from index node\n",
    "        for adjacent in nodes:\n",
    "            degrees[node][0] += 1\n",
    "            degrees[adjacent][1] += 1\n",
    "    print(degrees)\n",
    "\n",
    "    for node, degree in degrees.items():\n",
    "        print('node : ', node)\n",
    "        print('degree : ', degree)\n",
    "        outd, ind = degree\n",
    "\n",
    "        if outd == 0:\n",
    "            answer[bar] += 1\n",
    "        elif outd == 2:\n",
    "            if ind > 0:\n",
    "                answer[eight] += 1\n",
    "            else:\n",
    "                answer[start] = node\n",
    "                root = node\n",
    "        elif outd > 2:\n",
    "            answer[start] = node\n",
    "            root = node\n",
    "\n",
    "    answer[donut] = degrees[root][0] - answer[bar] - answer[eight]\n",
    "\n",
    "    return answer"
   ]
  },
  {
   "cell_type": "code",
   "execution_count": 75,
   "metadata": {},
   "outputs": [
    {
     "name": "stdout",
     "output_type": "stream",
     "text": [
      "defaultdict(<function solution.<locals>.<lambda> at 0x00000211F4AD0E50>, {})\n",
      "node :  2\n",
      "nodes :  [3, 1]\n",
      "node :  4\n",
      "nodes :  [3]\n",
      "node :  1\n",
      "nodes :  [1]\n",
      "defaultdict(<function solution.<locals>.<lambda> at 0x00000211F4AD0E50>, {2: [2, 0], 3: [0, 2], 1: [1, 2], 4: [1, 0]})\n",
      "node :  2\n",
      "degree :  [2, 0]\n",
      "node :  3\n",
      "degree :  [0, 2]\n",
      "node :  1\n",
      "degree :  [1, 2]\n",
      "node :  4\n",
      "degree :  [1, 0]\n"
     ]
    }
   ],
   "source": [
    "ans = solution([[2, 3], [4, 3], [1, 1], [2, 1]])"
   ]
  },
  {
   "cell_type": "code",
   "execution_count": 92,
   "metadata": {},
   "outputs": [],
   "source": [
    "word = [\"banana\", \"test\", \"user\", \"context\"]\n",
    "counter = defaultdict(str)\n",
    "for letter in word:\n",
    "    counter[letter] += 'a'"
   ]
  },
  {
   "cell_type": "code",
   "execution_count": 93,
   "metadata": {},
   "outputs": [
    {
     "data": {
      "text/plain": [
       "{'banana': 'a', 'test': 'a', 'user': 'a', 'context': 'a'}"
      ]
     },
     "execution_count": 93,
     "metadata": {},
     "output_type": "execute_result"
    }
   ],
   "source": [
    "dict(counter)"
   ]
  },
  {
   "cell_type": "markdown",
   "metadata": {},
   "source": [
    "### DFS"
   ]
  },
  {
   "cell_type": "code",
   "execution_count": 107,
   "metadata": {},
   "outputs": [
    {
     "name": "stdout",
     "output_type": "stream",
     "text": [
      "ㅁ BEFORE ==> stack :  ['A']\n",
      "ㅁ AFTER ==> stack :  []   vertex :  A\n",
      "ㅁ BEFORE ==> stack :  ['C', 'B']\n",
      "ㅁ AFTER ==> stack :  ['C']   vertex :  B\n",
      "ㅁ BEFORE ==> stack :  ['C', 'E', 'D']\n",
      "ㅁ AFTER ==> stack :  ['C', 'E']   vertex :  D\n",
      "ㅁ BEFORE ==> stack :  ['C', 'E']\n",
      "ㅁ AFTER ==> stack :  ['C']   vertex :  E\n",
      "ㅁ BEFORE ==> stack :  ['C', 'F']\n",
      "ㅁ AFTER ==> stack :  ['C']   vertex :  F\n",
      "ㅁ BEFORE ==> stack :  ['C']\n",
      "ㅁ AFTER ==> stack :  []   vertex :  C\n",
      "ㅁ BEFORE ==> stack :  ['F']\n",
      "ㅁ AFTER ==> stack :  []   vertex :  F\n"
     ]
    },
    {
     "data": {
      "text/plain": [
       "{'A', 'B', 'C', 'D', 'E', 'F'}"
      ]
     },
     "execution_count": 107,
     "metadata": {},
     "output_type": "execute_result"
    }
   ],
   "source": [
    "def dfs_stack(graph, start):\n",
    "    visited = set()\n",
    "    stack = [start]\n",
    "    \n",
    "    while stack:\n",
    "        print('ㅁ BEFORE ==> stack : ', stack)\n",
    "        vertex = stack.pop()\n",
    "        print('ㅁ AFTER ==> stack : ', stack, \"  vertex : \",vertex)\n",
    "        if vertex not in visited:\n",
    "            visited.add(vertex)\n",
    "            # print(vertex, end=' ')  # 방문한 노드를 출력\n",
    "            \n",
    "            # 방문할 노드들을 스택에 추가 (거꾸로 추가하여 올바른 순서로 방문)\n",
    "            stack.extend(reversed(graph[vertex]))\n",
    "    \n",
    "    return visited\n",
    "\n",
    "# 그래프 예제 (인접 리스트로 표현)\n",
    "graph = {\n",
    "    'A': ['B', 'C'],\n",
    "    'B': ['D', 'E'],\n",
    "    'C': ['F'],\n",
    "    'D': [],\n",
    "    'E': ['F'],\n",
    "    'F': []\n",
    "}\n",
    "\n",
    "# DFS 호출\n",
    "dfs_stack(graph, 'A')\n"
   ]
  },
  {
   "cell_type": "markdown",
   "metadata": {},
   "source": [
    "### BFS"
   ]
  },
  {
   "cell_type": "code",
   "execution_count": 130,
   "metadata": {},
   "outputs": [
    {
     "name": "stdout",
     "output_type": "stream",
     "text": [
      "deque(['A'])\n",
      "vertex :  A\n",
      "A vertex :  B\n",
      "B vertex :  C\n",
      "C vertex :  D\n",
      "D vertex :  E\n",
      "E vertex :  F\n",
      "F vertex :  F\n"
     ]
    },
    {
     "data": {
      "text/plain": [
       "{'A', 'B', 'C', 'D', 'E', 'F'}"
      ]
     },
     "execution_count": 130,
     "metadata": {},
     "output_type": "execute_result"
    }
   ],
   "source": [
    "from collections import deque\n",
    "\n",
    "def bfs(graph, start):\n",
    "    visited = set()\n",
    "    queue = deque([start])\n",
    "    print(queue)\n",
    "    \n",
    "    while queue:\n",
    "        vertex = queue.popleft()\n",
    "        print(\"vertex : \",vertex)\n",
    "        if vertex not in visited:\n",
    "            visited.add(vertex)\n",
    "            print(vertex, end=' ')  # 방문한 노드를 출력\n",
    "            \n",
    "            # 방문할 노드들을 큐에 추가\n",
    "            queue.extend(graph[vertex])\n",
    "    \n",
    "    return visited\n",
    "\n",
    "# 그래프 예제 (인접 리스트로 표현)\n",
    "graph = {\n",
    "    'A': ['B', 'C'],\n",
    "    'B': ['D', 'E'],\n",
    "    'C': ['F'],\n",
    "    'D': [],\n",
    "    'E': ['F'],\n",
    "    'F': []\n",
    "}\n",
    "\n",
    "# BFS 호출\n",
    "bfs(graph, 'A')\n"
   ]
  },
  {
   "cell_type": "code",
   "execution_count": 102,
   "metadata": {},
   "outputs": [
    {
     "ename": "IndentationError",
     "evalue": "unexpected indent (Temp/ipykernel_27472/459163696.py, line 2)",
     "output_type": "error",
     "traceback": [
      "\u001b[1;36m  File \u001b[1;32m\"C:\\Users\\hrlim\\AppData\\Local\\Temp/ipykernel_27472/459163696.py\"\u001b[1;36m, line \u001b[1;32m2\u001b[0m\n\u001b[1;33m    |        ㄴ--- E\u001b[0m\n\u001b[1;37m    ^\u001b[0m\n\u001b[1;31mIndentationError\u001b[0m\u001b[1;31m:\u001b[0m unexpected indent\n"
     ]
    }
   ],
   "source": [
    "'''\n",
    "A ------ B ----- D\n",
    "  |        ㄴ--- E\n",
    "  |              |\n",
    "  ㄴ---- C ----- F\n",
    "'''"
   ]
  },
  {
   "cell_type": "code",
   "execution_count": 134,
   "metadata": {},
   "outputs": [
    {
     "name": "stdout",
     "output_type": "stream",
     "text": [
      "deque([1])\n"
     ]
    }
   ],
   "source": [
    "from collections import deque\n",
    "\n",
    "\n",
    "lista = [1,2,3,4,6]\n",
    "ch = 1\n",
    "deq = deque([ch])\n",
    "print(deq)"
   ]
  },
  {
   "cell_type": "code",
   "execution_count": 135,
   "metadata": {},
   "outputs": [
    {
     "data": {
      "text/plain": [
       "1"
      ]
     },
     "execution_count": 135,
     "metadata": {},
     "output_type": "execute_result"
    }
   ],
   "source": [
    "deq.popleft()"
   ]
  },
  {
   "cell_type": "code",
   "execution_count": 136,
   "metadata": {},
   "outputs": [
    {
     "ename": "IndexError",
     "evalue": "pop from an empty deque",
     "output_type": "error",
     "traceback": [
      "\u001b[1;31m---------------------------------------------------------------------------\u001b[0m",
      "\u001b[1;31mIndexError\u001b[0m                                Traceback (most recent call last)",
      "\u001b[1;32m~\\AppData\\Local\\Temp/ipykernel_27472/33385659.py\u001b[0m in \u001b[0;36m<module>\u001b[1;34m\u001b[0m\n\u001b[1;32m----> 1\u001b[1;33m \u001b[0mdeq\u001b[0m\u001b[1;33m.\u001b[0m\u001b[0mpopleft\u001b[0m\u001b[1;33m(\u001b[0m\u001b[1;33m)\u001b[0m\u001b[1;33m\u001b[0m\u001b[1;33m\u001b[0m\u001b[0m\n\u001b[0m",
      "\u001b[1;31mIndexError\u001b[0m: pop from an empty deque"
     ]
    }
   ],
   "source": [
    "deq.popleft()"
   ]
  }
 ],
 "metadata": {
  "kernelspec": {
   "display_name": "base",
   "language": "python",
   "name": "python3"
  },
  "language_info": {
   "codemirror_mode": {
    "name": "ipython",
    "version": 3
   },
   "file_extension": ".py",
   "mimetype": "text/x-python",
   "name": "python",
   "nbconvert_exporter": "python",
   "pygments_lexer": "ipython3",
   "version": "3.9.7"
  }
 },
 "nbformat": 4,
 "nbformat_minor": 2
}
