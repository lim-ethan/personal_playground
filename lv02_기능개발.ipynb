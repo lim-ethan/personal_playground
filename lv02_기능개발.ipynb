{
 "cells": [
  {
   "cell_type": "code",
   "execution_count": 37,
   "id": "8683329f",
   "metadata": {},
   "outputs": [],
   "source": [
    "def solution(progress, speed):\n",
    "    answer = []\n",
    "    while True:\n",
    "        progress = [progress[i] + speed[i] for i in range(len(progress))]\n",
    "        tmp_cnt = 0\n",
    "        if progress and progress[0] >= 100:\n",
    "            for p in progress:\n",
    "                if p >= 100:\n",
    "                    tmp_cnt += 1\n",
    "                else:\n",
    "                    break\n",
    "            progress = progress[tmp_cnt:]\n",
    "            speed = speed[tmp_cnt:]\n",
    "            answer.append(tmp_cnt)\n",
    "        if not progress:\n",
    "            break\n",
    "    return answer\n"
   ]
  },
  {
   "cell_type": "code",
   "execution_count": 38,
   "id": "a90541d8",
   "metadata": {},
   "outputs": [
    {
     "data": {
      "text/plain": [
       "[2, 1]"
      ]
     },
     "execution_count": 38,
     "metadata": {},
     "output_type": "execute_result"
    }
   ],
   "source": [
    "solution([93, 30, 55], [1, 30, 5])"
   ]
  },
  {
   "cell_type": "code",
   "execution_count": null,
   "id": "655dbcf1",
   "metadata": {},
   "outputs": [],
   "source": []
  },
  {
   "cell_type": "code",
   "execution_count": 10,
   "id": "8afc995c",
   "metadata": {},
   "outputs": [
    {
     "data": {
      "text/plain": [
       "deque([[1, 30, 5]])"
      ]
     },
     "execution_count": 10,
     "metadata": {},
     "output_type": "execute_result"
    }
   ],
   "source": [
    "queue"
   ]
  }
 ],
 "metadata": {
  "kernelspec": {
   "display_name": "upstage_api_test",
   "language": "python",
   "name": "python3"
  },
  "language_info": {
   "codemirror_mode": {
    "name": "ipython",
    "version": 3
   },
   "file_extension": ".py",
   "mimetype": "text/x-python",
   "name": "python",
   "nbconvert_exporter": "python",
   "pygments_lexer": "ipython3",
   "version": "3.10.16"
  }
 },
 "nbformat": 4,
 "nbformat_minor": 5
}
