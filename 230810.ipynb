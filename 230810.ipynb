{
 "cells": [
  {
   "cell_type": "code",
   "execution_count": 168,
   "metadata": {},
   "outputs": [],
   "source": [
    "### 다시 풀어볼 것. rotation과 direction 문제 해결해야 함"
   ]
  },
  {
   "cell_type": "code",
   "execution_count": 1,
   "metadata": {},
   "outputs": [],
   "source": [
    "def find_start_xy(park) : \n",
    "    for row in park : \n",
    "        for col in row : \n",
    "            if col == 'S' : \n",
    "                start_x = park.index(row)\n",
    "                start_y = row.index(col)\n",
    "    return start_x, start_y"
   ]
  },
  {
   "cell_type": "code",
   "execution_count": 166,
   "metadata": {},
   "outputs": [],
   "source": [
    "def check_result (direction, distance, org_x, org_y) : \n",
    "    start_x = org_x\n",
    "    start_y = org_y \n",
    "    rx = [0, 1, 0, -1] # Nx, Ex, Sx, Wx\n",
    "    ry = [-1, 0, 1, 0] # Ny, Ey, Sy, Wy \n",
    "    for dis in range(distance + 1) : \n",
    "        pred_x = org_x + (rx[direction] * dis)\n",
    "        pred_y = org_y + (ry[direction] * dis)\n",
    "\n",
    "        print(rotation_eng)\n",
    "        print('now_x : ', pred_x)\n",
    "        print('now_y : ', pred_y)\n",
    "        print('='*50)\n",
    "        \n",
    "        try : \n",
    "            if (pred_x <= h and pred_x >= 0 and  pred_y <= w and pred_y >= 0) and park[pred_y][pred_x] != 'X': \n",
    "                start_x = pred_x\n",
    "                start_y = pred_y\n",
    "                # print('='*50)\n",
    "                # print(rotation_eng)\n",
    "                # print('now_x : ', start_x)\n",
    "                # print('now_y : ', start_y)\n",
    "        except : \n",
    "            return org_x, org_y\n",
    "    return start_x, start_y"
   ]
  },
  {
   "cell_type": "code",
   "execution_count": 167,
   "metadata": {},
   "outputs": [
    {
     "name": "stdout",
     "output_type": "stream",
     "text": [
      "E\n",
      "now_x :  0\n",
      "now_y :  0\n",
      "==================================================\n",
      "E\n",
      "now_x :  1\n",
      "now_y :  0\n",
      "==================================================\n",
      "E\n",
      "now_x :  2\n",
      "now_y :  0\n",
      "==================================================\n",
      "S\n",
      "now_x :  0\n",
      "now_y :  0\n",
      "==================================================\n",
      "S\n",
      "now_x :  0\n",
      "now_y :  1\n",
      "==================================================\n",
      "S\n",
      "now_x :  0\n",
      "now_y :  2\n",
      "==================================================\n",
      "W\n",
      "now_x :  0\n",
      "now_y :  0\n",
      "==================================================\n",
      "W\n",
      "now_x :  -1\n",
      "now_y :  0\n",
      "==================================================\n",
      "(0, 0)\n"
     ]
    }
   ],
   "source": [
    "park = [\"SOO\",\"OOO\",\"OOO\"]\n",
    "routes = [\"E 2\",\"S 2\",\"W 1\"]\n",
    "\n",
    "\n",
    "route_key = {\"N\" : 0, \"E\" : 1, \"S\" : 2, \"W\" : 3}\n",
    "\n",
    "w = len(park)\n",
    "h = len(park[0])\n",
    "\n",
    "start_x, start_y = find_start_xy(park)\n",
    "\n",
    "for route in routes : \n",
    "    rotation_eng = route.split(' ')[0]\n",
    "    direction = route_key[rotation_eng]\n",
    "    distance = int(route.split(' ')[-1])\n",
    "    result = check_result(direction, distance, start_x, start_y)\n",
    "# result = start_y, start_x\n",
    "print(result)"
   ]
  },
  {
   "cell_type": "code",
   "execution_count": null,
   "metadata": {},
   "outputs": [],
   "source": []
  },
  {
   "cell_type": "code",
   "execution_count": null,
   "metadata": {},
   "outputs": [],
   "source": []
  }
 ],
 "metadata": {
  "kernelspec": {
   "display_name": "base",
   "language": "python",
   "name": "python3"
  },
  "language_info": {
   "codemirror_mode": {
    "name": "ipython",
    "version": 3
   },
   "file_extension": ".py",
   "mimetype": "text/x-python",
   "name": "python",
   "nbconvert_exporter": "python",
   "pygments_lexer": "ipython3",
   "version": "3.9.7"
  },
  "orig_nbformat": 4
 },
 "nbformat": 4,
 "nbformat_minor": 2
}
