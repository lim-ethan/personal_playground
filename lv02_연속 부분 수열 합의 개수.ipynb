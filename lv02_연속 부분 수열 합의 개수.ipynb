{
 "cells": [
  {
   "cell_type": "code",
   "execution_count": null,
   "id": "1e290d55",
   "metadata": {},
   "outputs": [],
   "source": [
    "def solution(elements):\n",
    "    n = len(elements)\n",
    "    extended = elements * 2\n",
    "    result = set()\n",
    "    \n",
    "    for window in range(1, n + 1):\n",
    "        for i in range(n): \n",
    "            sub_sum = sum(extended[i:i + window])\n",
    "            result.add(sub_sum)\n",
    "            # print(result)\n",
    "    return len(result)\n"
   ]
  },
  {
   "cell_type": "code",
   "execution_count": 4,
   "id": "84837dcc",
   "metadata": {},
   "outputs": [
    {
     "name": "stdout",
     "output_type": "stream",
     "text": [
      "{7}\n",
      "{9, 7}\n",
      "{9, 1, 7}\n",
      "{9, 1, 7}\n",
      "{9, 4, 1, 7}\n",
      "{1, 4, 7, 9, 16}\n",
      "{1, 4, 7, 9, 10, 16}\n",
      "{1, 2, 4, 7, 9, 10, 16}\n",
      "{1, 2, 4, 5, 7, 9, 10, 16}\n",
      "{1, 2, 4, 5, 7, 9, 10, 11, 16}\n",
      "{1, 2, 4, 5, 7, 9, 10, 11, 16, 17}\n",
      "{1, 2, 4, 5, 7, 9, 10, 11, 16, 17}\n",
      "{1, 2, 4, 5, 6, 7, 9, 10, 11, 16, 17}\n",
      "{1, 2, 4, 5, 6, 7, 9, 10, 11, 12, 16, 17}\n",
      "{1, 2, 4, 5, 6, 7, 9, 10, 11, 12, 16, 17, 20}\n",
      "{1, 2, 4, 5, 6, 7, 9, 10, 11, 12, 16, 17, 18, 20}\n",
      "{1, 2, 4, 5, 6, 7, 9, 10, 11, 12, 15, 16, 17, 18, 20}\n",
      "{1, 2, 4, 5, 6, 7, 9, 10, 11, 12, 13, 15, 16, 17, 18, 20}\n",
      "{1, 2, 4, 5, 6, 7, 9, 10, 11, 12, 13, 15, 16, 17, 18, 20, 21}\n",
      "{1, 2, 4, 5, 6, 7, 9, 10, 11, 12, 13, 15, 16, 17, 18, 20, 21}\n",
      "{1, 2, 4, 5, 6, 7, 9, 10, 11, 12, 13, 15, 16, 17, 18, 20, 21, 22}\n",
      "{1, 2, 4, 5, 6, 7, 9, 10, 11, 12, 13, 15, 16, 17, 18, 20, 21, 22}\n",
      "{1, 2, 4, 5, 6, 7, 9, 10, 11, 12, 13, 15, 16, 17, 18, 20, 21, 22}\n",
      "{1, 2, 4, 5, 6, 7, 9, 10, 11, 12, 13, 15, 16, 17, 18, 20, 21, 22}\n",
      "{1, 2, 4, 5, 6, 7, 9, 10, 11, 12, 13, 15, 16, 17, 18, 20, 21, 22}\n"
     ]
    },
    {
     "data": {
      "text/plain": [
       "18"
      ]
     },
     "execution_count": 4,
     "metadata": {},
     "output_type": "execute_result"
    }
   ],
   "source": [
    "elements = [7,9,1,1,4]\n",
    "# print(elements[3:4])\n",
    "\n",
    "solution(elements)"
   ]
  },
  {
   "cell_type": "code",
   "execution_count": null,
   "id": "795fe379",
   "metadata": {},
   "outputs": [],
   "source": []
  },
  {
   "cell_type": "code",
   "execution_count": 18,
   "id": "7d233339",
   "metadata": {},
   "outputs": [
    {
     "ename": "NameError",
     "evalue": "name 'c' is not defined",
     "output_type": "error",
     "traceback": [
      "\u001b[1;31m---------------------------------------------------------------------------\u001b[0m",
      "\u001b[1;31mNameError\u001b[0m                                 Traceback (most recent call last)",
      "Cell \u001b[1;32mIn[18], line 1\u001b[0m\n\u001b[1;32m----> 1\u001b[0m \u001b[43mc\u001b[49m\n",
      "\u001b[1;31mNameError\u001b[0m: name 'c' is not defined"
     ]
    }
   ],
   "source": [
    "c"
   ]
  },
  {
   "cell_type": "code",
   "execution_count": null,
   "id": "3432df5b",
   "metadata": {},
   "outputs": [],
   "source": []
  }
 ],
 "metadata": {
  "kernelspec": {
   "display_name": "upstage_api_test",
   "language": "python",
   "name": "python3"
  },
  "language_info": {
   "codemirror_mode": {
    "name": "ipython",
    "version": 3
   },
   "file_extension": ".py",
   "mimetype": "text/x-python",
   "name": "python",
   "nbconvert_exporter": "python",
   "pygments_lexer": "ipython3",
   "version": "3.10.16"
  }
 },
 "nbformat": 4,
 "nbformat_minor": 5
}
