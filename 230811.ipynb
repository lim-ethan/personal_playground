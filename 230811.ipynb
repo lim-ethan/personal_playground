{
 "cells": [
  {
   "cell_type": "markdown",
   "metadata": {},
   "source": [
    "### 과제진행하기\n"
   ]
  },
  {
   "cell_type": "code",
   "execution_count": 1,
   "metadata": {},
   "outputs": [],
   "source": [
    "import datetime\n",
    "import pandas as pd\n",
    "from collections import deque"
   ]
  },
  {
   "cell_type": "code",
   "execution_count": 62,
   "metadata": {},
   "outputs": [],
   "source": [
    "def regenerate_plans(plans) : \n",
    "    new_plan = []\n",
    "    for plan in plans : \n",
    "        tmp = plan[0]\n",
    "        plan[0] = int(plan[1][:2]) * 60 + int(plan[1][3:5])\n",
    "        plan[1] = int(plan[0] + int(plan[2]))\n",
    "        plan[2] = tmp\n",
    "        new_plan.append(plan)\n",
    "\n",
    "    new_plan.sort()\n",
    "    start_time = 0\n",
    "    end_time = 0\n",
    "    queue = deque(new_plan) \n",
    "\n",
    "    def result_plans (queue, start_time, end_time) : \n",
    "        visit_list = []\n",
    "        while queue:\n",
    "            if len(new_plan) == 0 : \n",
    "                break\n",
    "            \n",
    "            now_queue = queue.popleft()\n",
    "            now_start = now_queue[0]\n",
    "            now_end = now_queue[1]\n",
    "            now_subject = now_queue[2]\n",
    "            if start_time < now_start : \n",
    "                visit_list.append(now_subject)\n",
    "\n",
    "\n",
    "            \n",
    "        return visit_list\n",
    "\n",
    "    result = result_plans (queue, start_time, end_time)\n",
    "    \n",
    "    return result"
   ]
  },
  {
   "cell_type": "code",
   "execution_count": 63,
   "metadata": {},
   "outputs": [],
   "source": [
    "def solution(plans):\n",
    "    for i in range(len(plans)) : \n",
    "        print(plans.pop())\n",
    "    \n",
    "    # return plans, time_range"
   ]
  },
  {
   "cell_type": "code",
   "execution_count": 64,
   "metadata": {},
   "outputs": [],
   "source": [
    "plan = [[\"science\", \"12:40\", \"50\"], [\"music\", \"12:20\", \"40\"], [\"history\", \"14:00\", \"30\"], [\"computer\", \"12:30\", \"100\"]]\n",
    "new_plan = regenerate_plans(plan)\n",
    "# solution(new_plan)\n"
   ]
  },
  {
   "cell_type": "code",
   "execution_count": 66,
   "metadata": {},
   "outputs": [
    {
     "data": {
      "text/plain": [
       "['music', 'computer', 'science', 'history']"
      ]
     },
     "execution_count": 66,
     "metadata": {},
     "output_type": "execute_result"
    }
   ],
   "source": [
    "new_plan"
   ]
  },
  {
   "cell_type": "code",
   "execution_count": null,
   "metadata": {},
   "outputs": [],
   "source": [
    "def solution(plans):\n",
    "    answer = []\n",
    "    time_list = []\n",
    "    working_list = []\n",
    "    \n",
    "    for i in range(len(plans)) : \n",
    "        task_name = plans[i][1]\n",
    "        task_start = plans[i][0]\n",
    "        task_diff = plans[i][2]\n",
    "        task_start_time = datetime.datetime.strptime(task_start, '%H:%M')\n",
    "        task_end_time = task_start_time + datetime.timedelta(minutes = int(task_diff))\n",
    "        plans[i][0] = str(task_start_time)\n",
    "        plans[i][2] = str(task_end_time)\n",
    "        time_list.append(task_start_time)\n",
    "        time_list.append(task_end_time)\n",
    "\n",
    "    max_time = max(time_list)\n",
    "    min_time = min(time_list)\n",
    "    time_range = pd.date_range(min_time, max_time, freq = 'min')\n",
    "\n",
    "    \n",
    "    return plans, time_range"
   ]
  }
 ],
 "metadata": {
  "kernelspec": {
   "display_name": "base",
   "language": "python",
   "name": "python3"
  },
  "language_info": {
   "codemirror_mode": {
    "name": "ipython",
    "version": 3
   },
   "file_extension": ".py",
   "mimetype": "text/x-python",
   "name": "python",
   "nbconvert_exporter": "python",
   "pygments_lexer": "ipython3",
   "version": "3.9.7"
  },
  "orig_nbformat": 4
 },
 "nbformat": 4,
 "nbformat_minor": 2
}
