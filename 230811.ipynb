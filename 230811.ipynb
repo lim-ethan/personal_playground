{
 "cells": [
  {
   "cell_type": "markdown",
   "metadata": {},
   "source": [
    "### 과제진행하기\n"
   ]
  },
  {
   "cell_type": "code",
   "execution_count": 1,
   "metadata": {},
   "outputs": [],
   "source": [
    "import datetime\n",
    "import pandas as pd\n",
    "from collections import deque"
   ]
  },
  {
   "cell_type": "code",
   "execution_count": 145,
   "metadata": {},
   "outputs": [],
   "source": [
    "### start시간 기준 정렬 후 queue를 이용해 문제를 풀어야겠다고 생각.\n",
    "### 아직 Queue를 사용하는 것이 익숙치 않아 어려움이 있음."
   ]
  },
  {
   "cell_type": "code",
   "execution_count": 141,
   "metadata": {},
   "outputs": [],
   "source": [
    "def regenerate_plans(plans) : \n",
    "    new_plan = []\n",
    "    for plan in plans : \n",
    "        tmp = plan[0]\n",
    "        plan[0] = int(plan[1][:2]) * 60 + int(plan[1][3:5])\n",
    "        plan[1] = int(plan[0] + int(plan[2]))\n",
    "        plan[2] = tmp\n",
    "        new_plan.append(plan)\n",
    "\n",
    "    new_plan.sort()\n",
    "    start_time = 0\n",
    "    end_time = 0\n",
    "    queue = deque(new_plan) \n",
    "\n",
    "    def result_plans (queue, start_time, end_time) : \n",
    "        visit_list = []\n",
    "        while queue:\n",
    "            now_queue = queue.popleft()\n",
    "            now_start = now_queue[0]\n",
    "            now_end = now_queue[1]\n",
    "            now_subject = now_queue[2]\n",
    "\n",
    "            if start_time < now_start : \n",
    "                if end_time > now_end : #이전 루프가 더 늦게 끝나면\n",
    "                    print('case1 : ', now_subject)\n",
    "                    print(now_end , end_time)\n",
    "                    visit_list.append(now_subject)\n",
    "                    start_time = now_start\n",
    "                    end_time = now_end\n",
    "                else : # 현재가 더 늦게 끝나면\n",
    "                    print('case2 : ', now_subject)\n",
    "                    result_plans (queue, now_start, now_end)\n",
    "            visit_list.append(now_subject)\n",
    "            \n",
    "        return visit_list\n",
    "\n",
    "    result = result_plans (queue, start_time, end_time)\n",
    "    \n",
    "    return result"
   ]
  },
  {
   "cell_type": "code",
   "execution_count": 142,
   "metadata": {},
   "outputs": [],
   "source": [
    "def solution(plans):\n",
    "    for i in range(len(plans)) : \n",
    "        print(plans.pop())\n",
    "    \n",
    "    # return plans, time_range"
   ]
  },
  {
   "cell_type": "code",
   "execution_count": 143,
   "metadata": {},
   "outputs": [
    {
     "name": "stdout",
     "output_type": "stream",
     "text": [
      "case2 :  music\n",
      "case2 :  computer\n",
      "case1 :  science\n",
      "810 850\n",
      "case2 :  history\n"
     ]
    }
   ],
   "source": [
    "plan = [[\"science\", \"12:40\", \"50\"], [\"music\", \"12:20\", \"40\"], [\"history\", \"14:00\", \"30\"], [\"computer\", \"12:30\", \"100\"]]\n",
    "new_plan = regenerate_plans(plan)\n",
    "# solution(new_plan)\n"
   ]
  },
  {
   "cell_type": "code",
   "execution_count": 144,
   "metadata": {},
   "outputs": [
    {
     "data": {
      "text/plain": [
       "['music']"
      ]
     },
     "execution_count": 144,
     "metadata": {},
     "output_type": "execute_result"
    }
   ],
   "source": [
    "new_plan"
   ]
  },
  {
   "cell_type": "code",
   "execution_count": null,
   "metadata": {},
   "outputs": [],
   "source": []
  },
  {
   "cell_type": "code",
   "execution_count": null,
   "metadata": {},
   "outputs": [],
   "source": []
  }
 ],
 "metadata": {
  "kernelspec": {
   "display_name": "base",
   "language": "python",
   "name": "python3"
  },
  "language_info": {
   "codemirror_mode": {
    "name": "ipython",
    "version": 3
   },
   "file_extension": ".py",
   "mimetype": "text/x-python",
   "name": "python",
   "nbconvert_exporter": "python",
   "pygments_lexer": "ipython3",
   "version": "3.9.7"
  },
  "orig_nbformat": 4
 },
 "nbformat": 4,
 "nbformat_minor": 2
}
