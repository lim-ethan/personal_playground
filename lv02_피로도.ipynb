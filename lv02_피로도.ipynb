{
 "cells": [
  {
   "cell_type": "code",
   "execution_count": 8,
   "id": "77890e13",
   "metadata": {},
   "outputs": [],
   "source": [
    "k = 80\n",
    "dungeons = [[80,20],[50,40],[30,10]]"
   ]
  },
  {
   "cell_type": "code",
   "execution_count": null,
   "id": "3fb243f4",
   "metadata": {},
   "outputs": [],
   "source": [
    "def solution(k, dungeons):\n",
    "    answer = 0\n",
    "\n",
    "    def dfs(current_k, count, visited, path):\n",
    "        nonlocal answer\n",
    "        answer = max(answer, count)\n",
    "\n",
    "        for i in range(len(dungeons)):\n",
    "            min_required, cost = dungeons[i]\n",
    "            if not visited[i] and current_k >= min_required:\n",
    "                visited[i] = True\n",
    "                dfs(current_k - cost, count + 1, visited, path + [i])\n",
    "                # print(f'index: {i}, count: {count}, path: {path + [i]}, visited: {visited}')\n",
    "                visited[i] = False\n",
    "\n",
    "    visited = [False] * len(dungeons)\n",
    "    dfs(k, 0, visited, [])\n",
    "    return answer\n",
    "\n",
    "\n"
   ]
  },
  {
   "cell_type": "code",
   "execution_count": 25,
   "id": "325a6116",
   "metadata": {},
   "outputs": [
    {
     "name": "stdout",
     "output_type": "stream",
     "text": [
      "index: 1, count: 1, path: [0, 1], visited: [True, True, False]\n",
      "index: 1, count: 2, path: [0, 2, 1], visited: [True, True, True]\n",
      "index: 2, count: 1, path: [0, 2], visited: [True, False, True]\n",
      "index: 0, count: 0, path: [0], visited: [True, False, False]\n",
      "index: 2, count: 1, path: [1, 2], visited: [False, True, True]\n",
      "index: 1, count: 0, path: [1], visited: [False, True, False]\n",
      "index: 1, count: 1, path: [2, 1], visited: [False, True, True]\n",
      "index: 2, count: 0, path: [2], visited: [False, False, True]\n",
      "최대 탐험 던전 수: 3\n"
     ]
    }
   ],
   "source": [
    "# 예시 실행\n",
    "k = 80\n",
    "dungeons = [[80, 20], [50, 40], [30, 10]]\n",
    "print(\"최대 탐험 던전 수:\", solution(k, dungeons))\n"
   ]
  },
  {
   "cell_type": "code",
   "execution_count": null,
   "id": "158723d5",
   "metadata": {},
   "outputs": [],
   "source": []
  }
 ],
 "metadata": {
  "kernelspec": {
   "display_name": "upstage_api_test",
   "language": "python",
   "name": "python3"
  },
  "language_info": {
   "codemirror_mode": {
    "name": "ipython",
    "version": 3
   },
   "file_extension": ".py",
   "mimetype": "text/x-python",
   "name": "python",
   "nbconvert_exporter": "python",
   "pygments_lexer": "ipython3",
   "version": "3.10.16"
  }
 },
 "nbformat": 4,
 "nbformat_minor": 5
}
