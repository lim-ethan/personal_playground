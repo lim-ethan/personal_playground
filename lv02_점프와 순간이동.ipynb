{
 "cells": [
  {
   "cell_type": "code",
   "execution_count": 31,
   "id": "db04b4ff",
   "metadata": {},
   "outputs": [],
   "source": [
    "def solution(destination):\n",
    "    energy = 0\n",
    "    while destination > 0 : \n",
    "        if destination % 2 == 0 : \n",
    "            destination = destination // 2\n",
    "        else : \n",
    "            destination -= 1\n",
    "            energy += 1\n",
    "    return energy"
   ]
  },
  {
   "cell_type": "code",
   "execution_count": 32,
   "id": "349f2c93",
   "metadata": {},
   "outputs": [
    {
     "data": {
      "text/plain": [
       "5"
      ]
     },
     "execution_count": 32,
     "metadata": {},
     "output_type": "execute_result"
    }
   ],
   "source": [
    "solution(5000)"
   ]
  },
  {
   "cell_type": "code",
   "execution_count": null,
   "id": "1aba0f46",
   "metadata": {},
   "outputs": [
    {
     "data": {
      "text/plain": [
       "1"
      ]
     },
     "execution_count": 6,
     "metadata": {},
     "output_type": "execute_result"
    }
   ],
   "source": []
  },
  {
   "cell_type": "code",
   "execution_count": null,
   "id": "c6a99a5f",
   "metadata": {},
   "outputs": [],
   "source": []
  },
  {
   "cell_type": "code",
   "execution_count": null,
   "id": "0a03a1f1",
   "metadata": {},
   "outputs": [],
   "source": []
  }
 ],
 "metadata": {
  "kernelspec": {
   "display_name": "upstage_api_test",
   "language": "python",
   "name": "python3"
  },
  "language_info": {
   "codemirror_mode": {
    "name": "ipython",
    "version": 3
   },
   "file_extension": ".py",
   "mimetype": "text/x-python",
   "name": "python",
   "nbconvert_exporter": "python",
   "pygments_lexer": "ipython3",
   "version": "3.10.16"
  }
 },
 "nbformat": 4,
 "nbformat_minor": 5
}
