{
 "cells": [
  {
   "cell_type": "code",
   "execution_count": 39,
   "id": "57d264d1",
   "metadata": {},
   "outputs": [],
   "source": [
    "import collections\n",
    "\n",
    "def check_func(tmp) : \n",
    "    queue = collections.deque()\n",
    "    try : \n",
    "        for t in tmp : \n",
    "            if t == '[' or t == '{' or t == '(' : \n",
    "                queue.append(t)\n",
    "            else : \n",
    "                comp = queue.pop()\n",
    "                if comp == '[' and t == ']' : \n",
    "                    continue\n",
    "                \n",
    "                if comp == '{' and t == '}' : \n",
    "                    continue\n",
    "\n",
    "                if comp == '(' and t == ')' : \n",
    "                    continue\n",
    "\n",
    "                queue.append(t)\n",
    "        return len(queue)\n",
    "    \n",
    "    except Exception as e : \n",
    "        return 1"
   ]
  },
  {
   "cell_type": "code",
   "execution_count": 49,
   "id": "bb417962",
   "metadata": {},
   "outputs": [],
   "source": [
    "def solution(s):\n",
    "    input_string = (s + s)[:-1]\n",
    "    window_size = len(s)\n",
    "    answer = 0\n",
    "    for i in range(len(input_string)) : \n",
    "        tmp = input_string[i : i+window_size]\n",
    "        if len(tmp) < window_size : \n",
    "            break\n",
    "        print(tmp)\n",
    "        result = check_func(tmp)\n",
    "        if result == 0 : \n",
    "            answer += 1\n",
    "    return answer"
   ]
  },
  {
   "cell_type": "code",
   "execution_count": 50,
   "id": "a2cc7e74",
   "metadata": {},
   "outputs": [
    {
     "name": "stdout",
     "output_type": "stream",
     "text": [
      "[](){}\n",
      "](){}[\n",
      "(){}[]\n",
      "){}[](\n",
      "{}[]()\n",
      "}[](){\n"
     ]
    },
    {
     "data": {
      "text/plain": [
       "3"
      ]
     },
     "execution_count": 50,
     "metadata": {},
     "output_type": "execute_result"
    }
   ],
   "source": [
    "solution(r\"[](){}\")"
   ]
  },
  {
   "cell_type": "markdown",
   "id": "f993e82f",
   "metadata": {},
   "source": [
    "### 2차 풀이 (다른 코드 참고)"
   ]
  },
  {
   "cell_type": "code",
   "execution_count": null,
   "id": "103e21a8",
   "metadata": {},
   "outputs": [],
   "source": [
    "def is_valid(s):\n",
    "    stack = []\n",
    "    pair = {')': '(', '}': '{', ']': '['}\n",
    "    \n",
    "    for char in s:\n",
    "        if char in pair.values():\n",
    "            stack.append(char)\n",
    "        else:\n",
    "            if not stack or stack.pop() != pair[char]:\n",
    "                return False\n",
    "    return not stack\n",
    "\n",
    "def solution(s):\n",
    "    answer = 0\n",
    "    for i in range(len(s)):\n",
    "        rotated = s[i:] + s[:i]\n",
    "        if is_valid(rotated):\n",
    "            answer += 1\n",
    "    return answer\n"
   ]
  }
 ],
 "metadata": {
  "kernelspec": {
   "display_name": "upstage_api_test",
   "language": "python",
   "name": "python3"
  },
  "language_info": {
   "codemirror_mode": {
    "name": "ipython",
    "version": 3
   },
   "file_extension": ".py",
   "mimetype": "text/x-python",
   "name": "python",
   "nbconvert_exporter": "python",
   "pygments_lexer": "ipython3",
   "version": "3.10.16"
  }
 },
 "nbformat": 4,
 "nbformat_minor": 5
}
