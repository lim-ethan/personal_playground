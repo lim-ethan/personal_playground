{
 "cells": [
  {
   "cell_type": "code",
   "execution_count": 1,
   "id": "6af38952",
   "metadata": {},
   "outputs": [],
   "source": [
    "from math import gcd\n",
    "from functools import reduce\n",
    "\n",
    "def solution(numbers):\n",
    "    return reduce(lambda x, y: x * y // gcd(x, y), numbers)\n"
   ]
  },
  {
   "cell_type": "code",
   "execution_count": 2,
   "id": "67cff5d1",
   "metadata": {},
   "outputs": [
    {
     "data": {
      "text/plain": [
       "168"
      ]
     },
     "execution_count": 2,
     "metadata": {},
     "output_type": "execute_result"
    }
   ],
   "source": [
    "solution([2,6,8,14])"
   ]
  },
  {
   "cell_type": "code",
   "execution_count": null,
   "id": "30b1af4b",
   "metadata": {},
   "outputs": [],
   "source": []
  }
 ],
 "metadata": {
  "kernelspec": {
   "display_name": "upstage_api_test",
   "language": "python",
   "name": "python3"
  },
  "language_info": {
   "codemirror_mode": {
    "name": "ipython",
    "version": 3
   },
   "file_extension": ".py",
   "mimetype": "text/x-python",
   "name": "python",
   "nbconvert_exporter": "python",
   "pygments_lexer": "ipython3",
   "version": "3.10.16"
  }
 },
 "nbformat": 4,
 "nbformat_minor": 5
}
