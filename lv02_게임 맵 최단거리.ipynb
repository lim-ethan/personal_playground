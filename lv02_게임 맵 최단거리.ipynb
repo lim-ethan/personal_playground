{
 "cells": [
  {
   "cell_type": "code",
   "execution_count": 23,
   "id": "0ce8e99f",
   "metadata": {},
   "outputs": [],
   "source": [
    "from collections import deque\n",
    "\n",
    "def solution(maps):\n",
    "    n, m = len(maps), len(maps[0])\n",
    "    dx = [-1, 1, 0, 0]  # 상, 하, 좌, 우\n",
    "    dy = [0, 0, -1, 1]\n",
    "\n",
    "    queue = deque([(0, 0)])\n",
    "    # maps[0][0] 는 1로 시작, 거리 정보가 maps 안에 바로 저장됨\n",
    "\n",
    "    while queue:\n",
    "        x, y = queue.popleft()\n",
    "        for i in range(4):\n",
    "            nx, ny = x + dx[i], y + dy[i]\n",
    "            # 유효 범위 & 벽(0)이 아니고 아직 방문 안 한 칸인지 확인\n",
    "            if 0 <= nx < n and 0 <= ny < m and maps[nx][ny] == 1:\n",
    "                maps[nx][ny] = maps[x][y] + 1  # 거리 갱신 & 방문 표시\n",
    "                queue.append((nx, ny))\n",
    "\n",
    "    # 도착지값이 여전히 1이면 도달 불가\n",
    "    print(maps)\n",
    "    return maps[n-1][m-1] if maps[n-1][m-1] > 1 else -1\n"
   ]
  },
  {
   "cell_type": "code",
   "execution_count": 39,
   "id": "7b7d7684",
   "metadata": {},
   "outputs": [],
   "source": [
    "maps= [[1,0,1,1,1],\n",
    "       [1,0,1,0,1],\n",
    "       [1,0,1,1,1],\n",
    "       [1,1,1,0,1],\n",
    "       [0,0,0,0,1]]"
   ]
  },
  {
   "cell_type": "code",
   "execution_count": null,
   "id": "a0a1a850",
   "metadata": {},
   "outputs": [],
   "source": [
    "def solution (maps) : \n",
    "    n, m = len(maps), len(maps[0])\n",
    "    dx = [-1, 1, 0, 0]  # 상, 하, 좌, 우\n",
    "    dy = [0, 0, -1, 1]\n",
    "\n",
    "    queue = deque([(0, 0)])\n",
    "\n",
    "    while queue : \n",
    "        now_x, now_y = queue.popleft()\n",
    "        print(now_x, now_y)\n",
    "        for i in range(4) : \n",
    "            nx = now_x + dx[i]\n",
    "            ny = now_y + dy[i]\n",
    "            if 0 <= now_x < n and 0 <= now_y < m and maps[now_x][now_y] == 1 : \n",
    "                maps[now_x][now_y] += 1\n",
    "                queue.append([(now_x, now_y)])\n",
    "                \n",
    "    return maps[n-1][m-1] if maps[n-1][m-1] > 1 else -1"
   ]
  },
  {
   "cell_type": "code",
   "execution_count": 41,
   "id": "71dbd9e9",
   "metadata": {},
   "outputs": [
    {
     "name": "stdout",
     "output_type": "stream",
     "text": [
      "0 0\n"
     ]
    },
    {
     "ename": "ValueError",
     "evalue": "not enough values to unpack (expected 2, got 1)",
     "output_type": "error",
     "traceback": [
      "\u001b[1;31m---------------------------------------------------------------------------\u001b[0m",
      "\u001b[1;31mValueError\u001b[0m                                Traceback (most recent call last)",
      "Cell \u001b[1;32mIn[41], line 1\u001b[0m\n\u001b[1;32m----> 1\u001b[0m \u001b[43msolution\u001b[49m\u001b[43m(\u001b[49m\u001b[43mmaps\u001b[49m\u001b[43m)\u001b[49m\n",
      "Cell \u001b[1;32mIn[40], line 9\u001b[0m, in \u001b[0;36msolution\u001b[1;34m(maps)\u001b[0m\n\u001b[0;32m      6\u001b[0m queue \u001b[38;5;241m=\u001b[39m deque([(\u001b[38;5;241m0\u001b[39m, \u001b[38;5;241m0\u001b[39m)])\n\u001b[0;32m      8\u001b[0m \u001b[38;5;28;01mwhile\u001b[39;00m queue : \n\u001b[1;32m----> 9\u001b[0m     now_x, now_y \u001b[38;5;241m=\u001b[39m queue\u001b[38;5;241m.\u001b[39mpopleft()\n\u001b[0;32m     10\u001b[0m     \u001b[38;5;28mprint\u001b[39m(now_x, now_y)\n\u001b[0;32m     11\u001b[0m     \u001b[38;5;28;01mfor\u001b[39;00m i \u001b[38;5;129;01min\u001b[39;00m \u001b[38;5;28mrange\u001b[39m(\u001b[38;5;241m4\u001b[39m) : \n",
      "\u001b[1;31mValueError\u001b[0m: not enough values to unpack (expected 2, got 1)"
     ]
    }
   ],
   "source": [
    "solution(maps)"
   ]
  },
  {
   "cell_type": "code",
   "execution_count": null,
   "id": "c524b3ee",
   "metadata": {},
   "outputs": [],
   "source": []
  }
 ],
 "metadata": {
  "kernelspec": {
   "display_name": "upstage_api_test",
   "language": "python",
   "name": "python3"
  },
  "language_info": {
   "codemirror_mode": {
    "name": "ipython",
    "version": 3
   },
   "file_extension": ".py",
   "mimetype": "text/x-python",
   "name": "python",
   "nbconvert_exporter": "python",
   "pygments_lexer": "ipython3",
   "version": "3.10.16"
  }
 },
 "nbformat": 4,
 "nbformat_minor": 5
}
