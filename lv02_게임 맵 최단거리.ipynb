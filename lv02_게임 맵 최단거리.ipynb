{
 "cells": [
  {
   "cell_type": "code",
   "execution_count": 23,
   "id": "0ce8e99f",
   "metadata": {},
   "outputs": [],
   "source": [
    "from collections import deque\n",
    "\n",
    "def solution(maps):\n",
    "    n, m = len(maps), len(maps[0])\n",
    "    dx = [-1, 1, 0, 0]  # 상, 하, 좌, 우\n",
    "    dy = [0, 0, -1, 1]\n",
    "\n",
    "    queue = deque([(0, 0)])\n",
    "    # maps[0][0] 는 1로 시작, 거리 정보가 maps 안에 바로 저장됨\n",
    "\n",
    "    while queue:\n",
    "        x, y = queue.popleft()\n",
    "        for i in range(4):\n",
    "            nx, ny = x + dx[i], y + dy[i]\n",
    "            # 유효 범위 & 벽(0)이 아니고 아직 방문 안 한 칸인지 확인\n",
    "            if 0 <= nx < n and 0 <= ny < m and maps[nx][ny] == 1:\n",
    "                maps[nx][ny] = maps[x][y] + 1  # 거리 갱신 & 방문 표시\n",
    "                queue.append((nx, ny))\n",
    "\n",
    "    # 도착지값이 여전히 1이면 도달 불가\n",
    "    print(maps)\n",
    "    return maps[n-1][m-1] if maps[n-1][m-1] > 1 else -1\n"
   ]
  },
  {
   "cell_type": "code",
   "execution_count": 65,
   "id": "7b7d7684",
   "metadata": {},
   "outputs": [],
   "source": [
    "maps= [[1,0,1,1,1],\n",
    "       [1,0,1,0,1],\n",
    "       [1,0,1,1,1],\n",
    "       [1,1,1,0,1],\n",
    "       [0,0,0,0,1]]"
   ]
  },
  {
   "cell_type": "code",
   "execution_count": null,
   "id": "a0a1a850",
   "metadata": {},
   "outputs": [],
   "source": [
    "def solution (maps) : \n",
    "    n, m = len(maps), len(maps[0])\n",
    "    dx = [-1, 1, 0, 0]  # 상, 하, 좌, 우\n",
    "    dy = [0, 0, -1, 1]\n",
    "\n",
    "    queue = deque([(0, 0)])\n",
    "\n",
    "    while queue : \n",
    "        init_x, init_y = queue.popleft()\n",
    "        \n",
    "        for i in range(4) : \n",
    "            nx = init_x + dx[i]\n",
    "            ny = init_y + dy[i]\n",
    "            if 0 <= nx < n and 0 <= ny < m and maps[nx][ny] == 1 : \n",
    "                maps[nx][ny] = maps[init_x][init_y] + 1\n",
    "                queue.append((nx, ny))\n",
    "    # print(maps)      \n",
    "    return maps[n-1][m-1] if maps[n-1][m-1] > 1 else -1"
   ]
  },
  {
   "cell_type": "code",
   "execution_count": 67,
   "id": "71dbd9e9",
   "metadata": {},
   "outputs": [
    {
     "name": "stdout",
     "output_type": "stream",
     "text": [
      "[[3, 0, 9, 10, 11], [2, 0, 8, 0, 10], [3, 0, 7, 8, 9], [4, 5, 6, 0, 10], [0, 0, 0, 0, 11]]\n"
     ]
    },
    {
     "data": {
      "text/plain": [
       "11"
      ]
     },
     "execution_count": 67,
     "metadata": {},
     "output_type": "execute_result"
    }
   ],
   "source": [
    "solution(maps)"
   ]
  },
  {
   "cell_type": "code",
   "execution_count": null,
   "id": "c524b3ee",
   "metadata": {},
   "outputs": [],
   "source": []
  }
 ],
 "metadata": {
  "kernelspec": {
   "display_name": "upstage_api_test",
   "language": "python",
   "name": "python3"
  },
  "language_info": {
   "codemirror_mode": {
    "name": "ipython",
    "version": 3
   },
   "file_extension": ".py",
   "mimetype": "text/x-python",
   "name": "python",
   "nbconvert_exporter": "python",
   "pygments_lexer": "ipython3",
   "version": "3.10.16"
  }
 },
 "nbformat": 4,
 "nbformat_minor": 5
}
