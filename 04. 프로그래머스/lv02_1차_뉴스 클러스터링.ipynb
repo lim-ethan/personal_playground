{
 "cells": [
  {
   "cell_type": "code",
   "execution_count": null,
   "id": "67af4600",
   "metadata": {},
   "outputs": [],
   "source": [
    "import re\n",
    "from collections import Counter\n",
    "def solution(str1, str2):\n",
    "    str1_div = [str1[i:i+2].lower() for i in range(len(str1)-1) if str1[i:i+2].isalpha()]\n",
    "    str2_div = [str2[i:i+2].lower() for i in range(len(str2)-1) if str2[i:i+2].isalpha()]\n",
    "\n",
    "    c1 = Counter(str1_div)\n",
    "    c2 = Counter(str2_div)\n",
    "\n",
    "    cross = c1 & c2\n",
    "    union = c1 | c2\n",
    "\n",
    "    inter_len = sum(cross.values())\n",
    "    union_len = sum(union.values())\n",
    "\n",
    "    if union_len == 0:\n",
    "        return 65536\n",
    "\n",
    "    return int(inter_len / union_len * 65536)"
   ]
  },
  {
   "cell_type": "code",
   "execution_count": 100,
   "id": "62542a1f",
   "metadata": {},
   "outputs": [],
   "source": [
    "str1 = \"aa1+aa2\"\n",
    "str2 = \"AAAA12\""
   ]
  },
  {
   "cell_type": "code",
   "execution_count": 101,
   "id": "485206d2",
   "metadata": {},
   "outputs": [
    {
     "data": {
      "text/plain": [
       "(43690,\n",
       " Counter({'aa': 2}),\n",
       " Counter({'aa': 3}),\n",
       " Counter({'aa': 2}),\n",
       " Counter({'aa': 3}))"
      ]
     },
     "execution_count": 101,
     "metadata": {},
     "output_type": "execute_result"
    }
   ],
   "source": [
    "solution(str1, str2)"
   ]
  },
  {
   "cell_type": "code",
   "execution_count": null,
   "id": "7b733d43",
   "metadata": {},
   "outputs": [],
   "source": []
  },
  {
   "cell_type": "code",
   "execution_count": null,
   "id": "dba6aa13",
   "metadata": {},
   "outputs": [],
   "source": []
  }
 ],
 "metadata": {
  "kernelspec": {
   "display_name": "upstage_api_test",
   "language": "python",
   "name": "python3"
  },
  "language_info": {
   "codemirror_mode": {
    "name": "ipython",
    "version": 3
   },
   "file_extension": ".py",
   "mimetype": "text/x-python",
   "name": "python",
   "nbconvert_exporter": "python",
   "pygments_lexer": "ipython3",
   "version": "3.10.16"
  }
 },
 "nbformat": 4,
 "nbformat_minor": 5
}
