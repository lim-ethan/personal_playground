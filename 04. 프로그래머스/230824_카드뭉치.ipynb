{
 "cells": [
  {
   "cell_type": "code",
   "execution_count": 93,
   "metadata": {},
   "outputs": [],
   "source": [
    "def solution(cards1, cards2, goal):\n",
    "    ans = goal.copy()\n",
    "    c1_flag = 1\n",
    "    c2_flag = 1\n",
    "\n",
    "    for g in goal : \n",
    "        if c1_flag : \n",
    "            if len(cards1) == 0 : \n",
    "                c1_flag = 0\n",
    "                continue\n",
    "            if g == cards1[0] : \n",
    "                cards1.remove(g)\n",
    "                ans.remove(g)\n",
    "            \n",
    "        if c2_flag :\n",
    "            if len(cards2) == 0 : \n",
    "                c2_flag = 0\n",
    "                continue\n",
    "            if g == cards2[0]: \n",
    "                cards2.remove(g)\n",
    "                ans.remove(g)\n",
    "\n",
    "    if len(ans) == 0: \n",
    "        return 'Yes'\n",
    "    else : \n",
    "        return 'No'\n"
   ]
  },
  {
   "cell_type": "code",
   "execution_count": 94,
   "metadata": {},
   "outputs": [
    {
     "data": {
      "text/plain": [
       "'Yes'"
      ]
     },
     "execution_count": 94,
     "metadata": {},
     "output_type": "execute_result"
    }
   ],
   "source": [
    "# cards1 = [\"i\", \"water\", \"drink\"]\n",
    "# cards2 = [\"want\", \"to\"]\n",
    "# goal = [\"i\", \"want\", \"to\", \"drink\", \"water\"]\n",
    "\n",
    "\n",
    "\n",
    "cards1 = [\"i\", \"drink\", \"water\"]\n",
    "cards2 = [\"want\", \"to\"]\n",
    "goal = [\"i\", \"want\", \"to\", \"drink\", \"water\"]\n",
    "res = solution(cards1, cards2, goal)\n",
    "res\n"
   ]
  },
  {
   "cell_type": "code",
   "execution_count": null,
   "metadata": {},
   "outputs": [],
   "source": []
  },
  {
   "cell_type": "code",
   "execution_count": null,
   "metadata": {},
   "outputs": [],
   "source": []
  }
 ],
 "metadata": {
  "kernelspec": {
   "display_name": "base",
   "language": "python",
   "name": "python3"
  },
  "language_info": {
   "codemirror_mode": {
    "name": "ipython",
    "version": 3
   },
   "file_extension": ".py",
   "mimetype": "text/x-python",
   "name": "python",
   "nbconvert_exporter": "python",
   "pygments_lexer": "ipython3",
   "version": "3.9.7"
  },
  "orig_nbformat": 4
 },
 "nbformat": 4,
 "nbformat_minor": 2
}
