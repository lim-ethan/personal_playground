{
 "cells": [
  {
   "cell_type": "code",
   "execution_count": 8,
   "id": "77890e13",
   "metadata": {},
   "outputs": [],
   "source": [
    "k = 80\n",
    "dungeons = [[80,20],[50,40],[30,10]]"
   ]
  },
  {
   "cell_type": "code",
   "execution_count": 26,
   "id": "3fb243f4",
   "metadata": {},
   "outputs": [
    {
     "name": "stdout",
     "output_type": "stream",
     "text": [
      "DFS 시작 - depth:0, count:0, path:[], visited:[False, False, False], current_k:80\n",
      "--> 던전 0 선택 (필요: 80, 소모: 20), 남은 피로도: 80\n",
      "  DFS 시작 - depth:1, count:1, path:[0], visited:[True, False, False], current_k:60\n",
      "  --> 던전 1 선택 (필요: 50, 소모: 40), 남은 피로도: 60\n",
      "    DFS 시작 - depth:2, count:2, path:[0, 1], visited:[True, True, False], current_k:20\n",
      "    DFS 종료 - depth:2, count:2, path:[0, 1]\n",
      "  <-- 던전 1 복귀 후 방문 취소, path: [0], visited: [True, False, False]\n",
      "  --> 던전 2 선택 (필요: 30, 소모: 10), 남은 피로도: 60\n",
      "    DFS 시작 - depth:2, count:2, path:[0, 2], visited:[True, False, True], current_k:50\n",
      "    --> 던전 1 선택 (필요: 50, 소모: 40), 남은 피로도: 50\n",
      "      DFS 시작 - depth:3, count:3, path:[0, 2, 1], visited:[True, True, True], current_k:10\n",
      "      DFS 종료 - depth:3, count:3, path:[0, 2, 1]\n",
      "    <-- 던전 1 복귀 후 방문 취소, path: [0, 2], visited: [True, False, True]\n",
      "    DFS 종료 - depth:2, count:2, path:[0, 2]\n",
      "  <-- 던전 2 복귀 후 방문 취소, path: [0], visited: [True, False, False]\n",
      "  DFS 종료 - depth:1, count:1, path:[0]\n",
      "<-- 던전 0 복귀 후 방문 취소, path: [], visited: [False, False, False]\n",
      "--> 던전 1 선택 (필요: 50, 소모: 40), 남은 피로도: 80\n",
      "  DFS 시작 - depth:1, count:1, path:[1], visited:[False, True, False], current_k:40\n",
      "  --> 던전 2 선택 (필요: 30, 소모: 10), 남은 피로도: 40\n",
      "    DFS 시작 - depth:2, count:2, path:[1, 2], visited:[False, True, True], current_k:30\n",
      "    DFS 종료 - depth:2, count:2, path:[1, 2]\n",
      "  <-- 던전 2 복귀 후 방문 취소, path: [1], visited: [False, True, False]\n",
      "  DFS 종료 - depth:1, count:1, path:[1]\n",
      "<-- 던전 1 복귀 후 방문 취소, path: [], visited: [False, False, False]\n",
      "--> 던전 2 선택 (필요: 30, 소모: 10), 남은 피로도: 80\n",
      "  DFS 시작 - depth:1, count:1, path:[2], visited:[False, False, True], current_k:70\n",
      "  --> 던전 1 선택 (필요: 50, 소모: 40), 남은 피로도: 70\n",
      "    DFS 시작 - depth:2, count:2, path:[2, 1], visited:[False, True, True], current_k:30\n",
      "    DFS 종료 - depth:2, count:2, path:[2, 1]\n",
      "  <-- 던전 1 복귀 후 방문 취소, path: [2], visited: [False, False, True]\n",
      "  DFS 종료 - depth:1, count:1, path:[2]\n",
      "<-- 던전 2 복귀 후 방문 취소, path: [], visited: [False, False, False]\n",
      "DFS 종료 - depth:0, count:0, path:[]\n",
      "최대 탐험 던전 수: 3\n"
     ]
    }
   ],
   "source": [
    "def solution(k, dungeons):\n",
    "    answer = 0\n",
    "\n",
    "    def dfs(current_k, count, visited, path, depth):\n",
    "        nonlocal answer\n",
    "        answer = max(answer, count)\n",
    "\n",
    "        indent = \"  \" * depth  # depth에 따라 들여쓰기 추가\n",
    "        print(f\"{indent}DFS 시작 - depth:{depth}, count:{count}, path:{path}, visited:{visited}, current_k:{current_k}\")\n",
    "\n",
    "        for i in range(len(dungeons)):\n",
    "            min_required, cost = dungeons[i]\n",
    "            if not visited[i] and current_k >= min_required:\n",
    "                visited[i] = True\n",
    "                print(f\"{indent}--> 던전 {i} 선택 (필요: {min_required}, 소모: {cost}), 남은 피로도: {current_k}\")\n",
    "                dfs(current_k - cost, count + 1, visited, path + [i], depth + 1)\n",
    "                visited[i] = False\n",
    "                print(f\"{indent}<-- 던전 {i} 복귀 후 방문 취소, path: {path}, visited: {visited}\")\n",
    "\n",
    "        print(f\"{indent}DFS 종료 - depth:{depth}, count:{count}, path:{path}\")\n",
    "\n",
    "    visited = [False] * len(dungeons)\n",
    "    dfs(k, 0, visited, [], 0)\n",
    "    return answer\n",
    "\n",
    "# 테스트 실행\n",
    "k = 80\n",
    "dungeons = [[80, 20], [50, 40], [30, 10]]\n",
    "print(\"최대 탐험 던전 수:\", solution(k, dungeons))\n"
   ]
  },
  {
   "cell_type": "code",
   "execution_count": null,
   "id": "158723d5",
   "metadata": {},
   "outputs": [],
   "source": []
  }
 ],
 "metadata": {
  "kernelspec": {
   "display_name": "upstage_api_test",
   "language": "python",
   "name": "python3"
  },
  "language_info": {
   "codemirror_mode": {
    "name": "ipython",
    "version": 3
   },
   "file_extension": ".py",
   "mimetype": "text/x-python",
   "name": "python",
   "nbconvert_exporter": "python",
   "pygments_lexer": "ipython3",
   "version": "3.10.16"
  }
 },
 "nbformat": 4,
 "nbformat_minor": 5
}
