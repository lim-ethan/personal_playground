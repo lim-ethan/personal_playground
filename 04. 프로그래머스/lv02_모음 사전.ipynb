{
 "cells": [
  {
   "cell_type": "code",
   "execution_count": null,
   "id": "3dfab257",
   "metadata": {},
   "outputs": [],
   "source": [
    "str_list = ['A', 'E', 'I', 'O', 'U']"
   ]
  },
  {
   "cell_type": "code",
   "execution_count": 1,
   "id": "4ec1edf9",
   "metadata": {},
   "outputs": [],
   "source": [
    "from collections import deque"
   ]
  },
  {
   "cell_type": "code",
   "execution_count": 12,
   "id": "d1d94432",
   "metadata": {},
   "outputs": [],
   "source": [
    "str_list = ['A', 'E', 'I', 'O', 'U']\n",
    "ans = []\n",
    "\n",
    "def solution(input_str):\n",
    "    def dfs(now_str):\n",
    "        if now_str:\n",
    "            ans.append(now_str)\n",
    "        \n",
    "        if len(now_str) == 5:\n",
    "            return\n",
    "        \n",
    "        for ch in str_list:\n",
    "            dfs(now_str + ch)\n",
    "    \n",
    "    dfs('')\n",
    "    return ans.index(input_str) + 1\n"
   ]
  },
  {
   "cell_type": "code",
   "execution_count": 13,
   "id": "9ceb7249",
   "metadata": {},
   "outputs": [
    {
     "data": {
      "text/plain": [
       "6"
      ]
     },
     "execution_count": 13,
     "metadata": {},
     "output_type": "execute_result"
    }
   ],
   "source": [
    "solution (\"AAAAE\")"
   ]
  },
  {
   "cell_type": "code",
   "execution_count": null,
   "id": "30a5cd51",
   "metadata": {},
   "outputs": [],
   "source": []
  },
  {
   "cell_type": "code",
   "execution_count": null,
   "id": "49aee14c",
   "metadata": {},
   "outputs": [],
   "source": []
  }
 ],
 "metadata": {
  "kernelspec": {
   "display_name": "upstage_api_test",
   "language": "python",
   "name": "python3"
  },
  "language_info": {
   "codemirror_mode": {
    "name": "ipython",
    "version": 3
   },
   "file_extension": ".py",
   "mimetype": "text/x-python",
   "name": "python",
   "nbconvert_exporter": "python",
   "pygments_lexer": "ipython3",
   "version": "3.10.16"
  }
 },
 "nbformat": 4,
 "nbformat_minor": 5
}
