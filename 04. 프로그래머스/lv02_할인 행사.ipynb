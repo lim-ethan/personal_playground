{
 "cells": [
  {
   "cell_type": "code",
   "execution_count": 1,
   "id": "a244eb56",
   "metadata": {},
   "outputs": [],
   "source": [
    "import collections"
   ]
  },
  {
   "cell_type": "code",
   "execution_count": 11,
   "id": "564628df",
   "metadata": {},
   "outputs": [],
   "source": [
    "def solution(want, number, discount):\n",
    "    window_size = 1\n",
    "    step = 10\n",
    "    answer = 0\n",
    "    dict_want = {want[idx] : number[idx] for idx in range(len(want))}\n",
    "    for i in range(0, len(discount) - 10 + 1):\n",
    "        window = discount[i:i+step]\n",
    "        count_window = collections.Counter(window)\n",
    "        print('=' * 100)\n",
    "        print('ㅁ count window : ', dict(count_window))\n",
    "        print('ㅁ dict want : ', dict(dict_want))\n",
    "        if count_window == dict_want:\n",
    "            answer += 1\n",
    "    \n",
    "    return answer\n",
    "\n",
    "\n"
   ]
  },
  {
   "cell_type": "code",
   "execution_count": 12,
   "id": "e55458b0",
   "metadata": {},
   "outputs": [
    {
     "name": "stdout",
     "output_type": "stream",
     "text": [
      "====================================================================================================\n",
      "ㅁ count window :  {'chicken': 1, 'apple': 3, 'banana': 2, 'rice': 2, 'pork': 2}\n",
      "ㅁ dict want :  {'banana': 3, 'apple': 2, 'rice': 2, 'pork': 2, 'pot': 1}\n",
      "====================================================================================================\n",
      "ㅁ count window :  {'apple': 3, 'banana': 2, 'rice': 2, 'pork': 2, 'pot': 1}\n",
      "ㅁ dict want :  {'banana': 3, 'apple': 2, 'rice': 2, 'pork': 2, 'pot': 1}\n",
      "====================================================================================================\n",
      "ㅁ count window :  {'apple': 2, 'banana': 3, 'rice': 2, 'pork': 2, 'pot': 1}\n",
      "ㅁ dict want :  {'banana': 3, 'apple': 2, 'rice': 2, 'pork': 2, 'pot': 1}\n",
      "====================================================================================================\n",
      "ㅁ count window :  {'banana': 3, 'rice': 2, 'apple': 2, 'pork': 2, 'pot': 1}\n",
      "ㅁ dict want :  {'banana': 3, 'apple': 2, 'rice': 2, 'pork': 2, 'pot': 1}\n",
      "====================================================================================================\n",
      "ㅁ count window :  {'rice': 2, 'apple': 2, 'pork': 2, 'banana': 3, 'pot': 1}\n",
      "ㅁ dict want :  {'banana': 3, 'apple': 2, 'rice': 2, 'pork': 2, 'pot': 1}\n"
     ]
    },
    {
     "data": {
      "text/plain": [
       "3"
      ]
     },
     "execution_count": 12,
     "metadata": {},
     "output_type": "execute_result"
    }
   ],
   "source": [
    "solution([\"banana\", \"apple\", \"rice\", \"pork\", \"pot\"], \n",
    "        [3, 2, 2, 2, 1],\n",
    "        [\"chicken\", \"apple\", \"apple\", \"banana\", \"rice\", \"apple\", \"pork\", \"banana\", \"pork\", \"rice\", \"pot\", \"banana\", \"apple\", \"banana\"])"
   ]
  },
  {
   "cell_type": "code",
   "execution_count": null,
   "id": "2a250ee6",
   "metadata": {},
   "outputs": [],
   "source": [
    "3"
   ]
  }
 ],
 "metadata": {
  "kernelspec": {
   "display_name": "upstage_api_test",
   "language": "python",
   "name": "python3"
  },
  "language_info": {
   "codemirror_mode": {
    "name": "ipython",
    "version": 3
   },
   "file_extension": ".py",
   "mimetype": "text/x-python",
   "name": "python",
   "nbconvert_exporter": "python",
   "pygments_lexer": "ipython3",
   "version": "3.10.16"
  }
 },
 "nbformat": 4,
 "nbformat_minor": 5
}
