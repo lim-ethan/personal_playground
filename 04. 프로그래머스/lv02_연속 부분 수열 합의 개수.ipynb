{
 "cells": [
  {
   "cell_type": "code",
   "execution_count": 5,
   "id": "1e290d55",
   "metadata": {},
   "outputs": [],
   "source": [
    "def solution(elements):\n",
    "    n = len(elements)\n",
    "    extended = elements * 2\n",
    "    print(extended)\n",
    "    result = set()\n",
    "    \n",
    "    for window in range(1, n + 1):\n",
    "        for i in range(n): \n",
    "            sub_sum = sum(extended[i:i + window])\n",
    "            result.add(sub_sum)\n",
    "            # print(result)\n",
    "    return len(result)\n"
   ]
  },
  {
   "cell_type": "code",
   "execution_count": 6,
   "id": "84837dcc",
   "metadata": {},
   "outputs": [
    {
     "name": "stdout",
     "output_type": "stream",
     "text": [
      "[7, 9, 1, 1, 4, 7, 9, 1, 1, 4]\n"
     ]
    },
    {
     "data": {
      "text/plain": [
       "18"
      ]
     },
     "execution_count": 6,
     "metadata": {},
     "output_type": "execute_result"
    }
   ],
   "source": [
    "elements = [7,9,1,1,4]\n",
    "# print(elements[3:4])\n",
    "\n",
    "solution(elements)"
   ]
  }
 ],
 "metadata": {
  "kernelspec": {
   "display_name": "upstage_api_test",
   "language": "python",
   "name": "python3"
  },
  "language_info": {
   "codemirror_mode": {
    "name": "ipython",
    "version": 3
   },
   "file_extension": ".py",
   "mimetype": "text/x-python",
   "name": "python",
   "nbconvert_exporter": "python",
   "pygments_lexer": "ipython3",
   "version": "3.10.16"
  }
 },
 "nbformat": 4,
 "nbformat_minor": 5
}
