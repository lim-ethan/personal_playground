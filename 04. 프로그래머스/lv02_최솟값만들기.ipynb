{
 "cells": [
  {
   "cell_type": "code",
   "execution_count": 33,
   "id": "e89af8f4",
   "metadata": {},
   "outputs": [],
   "source": [
    "def solution(A,B):\n",
    "    answer = 0\n",
    "    A = sorted(A, reverse=True)\n",
    "    B = sorted(B, reverse=False)\n",
    "    for i in range(len(A)) : \n",
    "        answer += A[i] * B[i]\n",
    "    return answer"
   ]
  },
  {
   "cell_type": "code",
   "execution_count": 34,
   "id": "fa9252ba",
   "metadata": {},
   "outputs": [
    {
     "data": {
      "text/plain": [
       "29"
      ]
     },
     "execution_count": 34,
     "metadata": {},
     "output_type": "execute_result"
    }
   ],
   "source": [
    "A = [1, 4, 2]\t\n",
    "B = [5, 4, 4]\n",
    "solution(A, B)"
   ]
  },
  {
   "cell_type": "code",
   "execution_count": null,
   "id": "8615a6ad",
   "metadata": {},
   "outputs": [],
   "source": []
  },
  {
   "cell_type": "code",
   "execution_count": null,
   "id": "70c24a63",
   "metadata": {},
   "outputs": [],
   "source": []
  }
 ],
 "metadata": {
  "kernelspec": {
   "display_name": "upstage_api_test",
   "language": "python",
   "name": "python3"
  },
  "language_info": {
   "codemirror_mode": {
    "name": "ipython",
    "version": 3
   },
   "file_extension": ".py",
   "mimetype": "text/x-python",
   "name": "python",
   "nbconvert_exporter": "python",
   "pygments_lexer": "ipython3",
   "version": "3.10.16"
  }
 },
 "nbformat": 4,
 "nbformat_minor": 5
}
