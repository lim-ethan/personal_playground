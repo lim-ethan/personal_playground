{
 "cells": [
  {
   "cell_type": "code",
   "execution_count": 1,
   "id": "f391a275",
   "metadata": {},
   "outputs": [],
   "source": [
    "n = 5"
   ]
  },
  {
   "cell_type": "code",
   "execution_count": null,
   "id": "fb549f3d",
   "metadata": {},
   "outputs": [
    {
     "name": "stdout",
     "output_type": "stream",
     "text": [
      "[0, 1, 2, 0, 0, 0, 0]\n",
      "[0, 1, 2, 0, 0, 0, 0]\n",
      "[0, 1, 2, 3, 0, 0, 0]\n",
      "[0, 1, 2, 3, 5, 0, 0]\n"
     ]
    }
   ],
   "source": [
    "def solution(n) : \n",
    "    dp = [0] * (n + 2)\n",
    "    dp[1] = 1\n",
    "    dp[2] = 2\n",
    "    print(dp)\n",
    "    for i in range(3, n + 1):\n",
    "        print(dp)\n",
    "        dp[i] = (dp[i - 1] + dp[i - 2]) % 1234567\n",
    "    return dp[n]"
   ]
  }
 ],
 "metadata": {
  "kernelspec": {
   "display_name": "upstage_api_test",
   "language": "python",
   "name": "python3"
  },
  "language_info": {
   "codemirror_mode": {
    "name": "ipython",
    "version": 3
   },
   "file_extension": ".py",
   "mimetype": "text/x-python",
   "name": "python",
   "nbconvert_exporter": "python",
   "pygments_lexer": "ipython3",
   "version": "3.10.16"
  }
 },
 "nbformat": 4,
 "nbformat_minor": 5
}
