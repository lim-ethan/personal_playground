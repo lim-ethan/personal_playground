{
 "cells": [
  {
   "cell_type": "code",
   "execution_count": null,
   "id": "f9d10e7b",
   "metadata": {},
   "outputs": [],
   "source": [
    "def solution(n, words):\n",
    "    answer = []\n",
    "    check_point = words[0][-1]\n",
    "    already_list = [words[0]]\n",
    "    cycle = 0\n",
    "    pick = 0\n",
    "    for i in range(1, len(words)) : \n",
    "        if (words[i][0] == check_point ) and (words[i] not in already_list): \n",
    "            check_point = words[i][-1]\n",
    "            already_list.append(words[i])\n",
    "            \n",
    "        else : \n",
    "            cycle = i // n + 1\n",
    "            pick = i % n + 1\n",
    "            break\n",
    "    \n",
    "    answer.append(pick)\n",
    "    answer.append(cycle)\n",
    "\n",
    "    return answer"
   ]
  },
  {
   "cell_type": "code",
   "execution_count": 45,
   "id": "c0b490df",
   "metadata": {},
   "outputs": [
    {
     "name": "stdout",
     "output_type": "stream",
     "text": [
      "now :  kick    already :  ['tank']\n",
      "now :  know    already :  ['tank', 'kick']\n",
      "now :  wheel    already :  ['tank', 'kick', 'know']\n",
      "now :  land    already :  ['tank', 'kick', 'know', 'wheel']\n",
      "now :  dream    already :  ['tank', 'kick', 'know', 'wheel', 'land']\n",
      "now :  mother    already :  ['tank', 'kick', 'know', 'wheel', 'land', 'dream']\n",
      "now :  robot    already :  ['tank', 'kick', 'know', 'wheel', 'land', 'dream', 'mother']\n",
      "now :  tank    already :  ['tank', 'kick', 'know', 'wheel', 'land', 'dream', 'mother', 'robot']\n",
      "True\n",
      "True\n",
      "AA\n"
     ]
    },
    {
     "data": {
      "text/plain": [
       "[3, 3]"
      ]
     },
     "execution_count": 45,
     "metadata": {},
     "output_type": "execute_result"
    }
   ],
   "source": [
    "solution(3, [\"tank\", \"kick\", \"know\", \"wheel\", \"land\", \"dream\", \"mother\", \"robot\", \"tank\"])"
   ]
  },
  {
   "cell_type": "code",
   "execution_count": 46,
   "id": "2856bba4",
   "metadata": {},
   "outputs": [
    {
     "name": "stdout",
     "output_type": "stream",
     "text": [
      "now :  observe    already :  ['hello']\n",
      "now :  effect    already :  ['hello', 'observe']\n",
      "now :  take    already :  ['hello', 'observe', 'effect']\n",
      "now :  either    already :  ['hello', 'observe', 'effect', 'take']\n",
      "now :  recognize    already :  ['hello', 'observe', 'effect', 'take', 'either']\n",
      "now :  encourage    already :  ['hello', 'observe', 'effect', 'take', 'either', 'recognize']\n",
      "now :  ensure    already :  ['hello', 'observe', 'effect', 'take', 'either', 'recognize', 'encourage']\n",
      "now :  establish    already :  ['hello', 'observe', 'effect', 'take', 'either', 'recognize', 'encourage', 'ensure']\n",
      "now :  hang    already :  ['hello', 'observe', 'effect', 'take', 'either', 'recognize', 'encourage', 'ensure', 'establish']\n",
      "now :  gather    already :  ['hello', 'observe', 'effect', 'take', 'either', 'recognize', 'encourage', 'ensure', 'establish', 'hang']\n",
      "now :  refer    already :  ['hello', 'observe', 'effect', 'take', 'either', 'recognize', 'encourage', 'ensure', 'establish', 'hang', 'gather']\n",
      "now :  reference    already :  ['hello', 'observe', 'effect', 'take', 'either', 'recognize', 'encourage', 'ensure', 'establish', 'hang', 'gather', 'refer']\n",
      "now :  estimate    already :  ['hello', 'observe', 'effect', 'take', 'either', 'recognize', 'encourage', 'ensure', 'establish', 'hang', 'gather', 'refer', 'reference']\n",
      "now :  executive    already :  ['hello', 'observe', 'effect', 'take', 'either', 'recognize', 'encourage', 'ensure', 'establish', 'hang', 'gather', 'refer', 'reference', 'estimate']\n"
     ]
    },
    {
     "data": {
      "text/plain": [
       "[0, 0]"
      ]
     },
     "execution_count": 46,
     "metadata": {},
     "output_type": "execute_result"
    }
   ],
   "source": [
    "solution(5, [\"hello\", \"observe\", \"effect\", \"take\", \"either\", \"recognize\", \"encourage\", \"ensure\", \"establish\", \"hang\", \"gather\", \"refer\", \"reference\", \"estimate\", \"executive\"])"
   ]
  },
  {
   "cell_type": "code",
   "execution_count": 47,
   "id": "a1c41d85",
   "metadata": {},
   "outputs": [
    {
     "name": "stdout",
     "output_type": "stream",
     "text": [
      "now :  one    already :  ['hello']\n",
      "now :  even    already :  ['hello', 'one']\n",
      "now :  never    already :  ['hello', 'one', 'even']\n",
      "now :  now    already :  ['hello', 'one', 'even', 'never']\n",
      "False\n",
      "False\n",
      "AA\n"
     ]
    },
    {
     "data": {
      "text/plain": [
       "[1, 3]"
      ]
     },
     "execution_count": 47,
     "metadata": {},
     "output_type": "execute_result"
    }
   ],
   "source": [
    "solution(2, [\"hello\", \"one\", \"even\", \"never\", \"now\", \"world\", \"draw\"])"
   ]
  },
  {
   "cell_type": "code",
   "execution_count": null,
   "id": "23e4b7cd",
   "metadata": {},
   "outputs": [],
   "source": []
  },
  {
   "cell_type": "code",
   "execution_count": null,
   "id": "091c3ab7",
   "metadata": {},
   "outputs": [],
   "source": []
  }
 ],
 "metadata": {
  "kernelspec": {
   "display_name": "upstage_api_test",
   "language": "python",
   "name": "python3"
  },
  "language_info": {
   "codemirror_mode": {
    "name": "ipython",
    "version": 3
   },
   "file_extension": ".py",
   "mimetype": "text/x-python",
   "name": "python",
   "nbconvert_exporter": "python",
   "pygments_lexer": "ipython3",
   "version": "3.10.16"
  }
 },
 "nbformat": 4,
 "nbformat_minor": 5
}
