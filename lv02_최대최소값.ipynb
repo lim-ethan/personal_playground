{
 "cells": [
  {
   "cell_type": "code",
   "execution_count": null,
   "id": "f5759297",
   "metadata": {},
   "outputs": [],
   "source": [
    "def solution(s):\n",
    "    answer = ''\n",
    "    numbers = [int(i) for i in s.split(' ')]\n",
    "    answer = f'{min(numbers)} {max(numbers)}'\n",
    "    return answer"
   ]
  }
 ],
 "metadata": {
  "kernelspec": {
   "display_name": "upstage_api_test",
   "language": "python",
   "name": "python3"
  },
  "language_info": {
   "codemirror_mode": {
    "name": "ipython",
    "version": 3
   },
   "file_extension": ".py",
   "mimetype": "text/x-python",
   "name": "python",
   "nbconvert_exporter": "python",
   "pygments_lexer": "ipython3",
   "version": "3.10.16"
  }
 },
 "nbformat": 4,
 "nbformat_minor": 5
}
