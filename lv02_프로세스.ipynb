{
 "cells": [
  {
   "cell_type": "code",
   "execution_count": 1,
   "id": "e74e5f28",
   "metadata": {},
   "outputs": [],
   "source": [
    "import collections "
   ]
  },
  {
   "cell_type": "code",
   "execution_count": 28,
   "id": "3ef11e5f",
   "metadata": {},
   "outputs": [],
   "source": [
    "def solution(priorities, location):\n",
    "    queue = collections.deque()\n",
    "    idx_queue = collections.deque()\n",
    "    priorities = [2, 1, 3, 2]\n",
    "    location = 2\n",
    "\n",
    "    for index, pr in enumerate(priorities) : \n",
    "        idx_queue.append(index)\n",
    "        queue.append(pr)\n",
    "\n",
    "    process = 0\n",
    "    while True : \n",
    "        q = queue.popleft()\n",
    "        index = idx_queue.popleft()\n",
    "        # print(queue, '   MAX : ', max(queue))\n",
    "        if q >= max(queue) : \n",
    "            if index == location : \n",
    "                break\n",
    "            else : \n",
    "                process += 1\n",
    "        else : \n",
    "            queue.append(q)\n",
    "            idx_queue.append(index)\n",
    "    return process\n",
    "        \n",
    "        "
   ]
  },
  {
   "cell_type": "code",
   "execution_count": null,
   "id": "0b060fa6",
   "metadata": {},
   "outputs": [],
   "source": [
    "import collections \n",
    "\n",
    "def solution(priorities, location):\n",
    "    queue = collections.deque()\n",
    "    idx_queue = collections.deque()\n",
    "\n",
    "    for index, pr in enumerate(priorities): \n",
    "        idx_queue.append(index)\n",
    "        queue.append(pr)\n",
    "\n",
    "    process = 0\n",
    "    while True: \n",
    "        q = queue.popleft()\n",
    "        index = idx_queue.popleft()\n",
    "        if q >= max(queue) if queue else True: \n",
    "            process += 1\n",
    "            if index == location:\n",
    "                break\n",
    "        else: \n",
    "            queue.append(q)\n",
    "            idx_queue.append(index)\n",
    "    return process\n"
   ]
  },
  {
   "cell_type": "code",
   "execution_count": 34,
   "id": "0ecdc496",
   "metadata": {},
   "outputs": [
    {
     "data": {
      "text/plain": [
       "1"
      ]
     },
     "execution_count": 34,
     "metadata": {},
     "output_type": "execute_result"
    }
   ],
   "source": [
    "solution([2, 1, 3, 2], 2)"
   ]
  },
  {
   "cell_type": "code",
   "execution_count": null,
   "id": "71735891",
   "metadata": {},
   "outputs": [],
   "source": []
  }
 ],
 "metadata": {
  "kernelspec": {
   "display_name": "upstage_api_test",
   "language": "python",
   "name": "python3"
  },
  "language_info": {
   "codemirror_mode": {
    "name": "ipython",
    "version": 3
   },
   "file_extension": ".py",
   "mimetype": "text/x-python",
   "name": "python",
   "nbconvert_exporter": "python",
   "pygments_lexer": "ipython3",
   "version": "3.10.16"
  }
 },
 "nbformat": 4,
 "nbformat_minor": 5
}
