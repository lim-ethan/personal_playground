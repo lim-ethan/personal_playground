{
 "cells": [
  {
   "cell_type": "code",
   "execution_count": null,
   "id": "c0c274de",
   "metadata": {},
   "outputs": [],
   "source": [
    "### 튜플 대소관계\n",
    "# (0, 0) < (0, 1)    # True\n",
    "# (0, 1) < (0, 0)    # False\n",
    "# (1, 2) < (1, 3)    # True\n",
    "# (2, 0) < (1, 5)    # False\n"
   ]
  },
  {
   "cell_type": "code",
   "execution_count": 33,
   "id": "84cf9bae",
   "metadata": {},
   "outputs": [],
   "source": [
    "def solution(dirs):\n",
    "    dict_dir = {\n",
    "        'U': (0, 1),\n",
    "        'D': (0, -1),\n",
    "        'L': (-1, 0),\n",
    "        'R': (1, 0)\n",
    "    }\n",
    "\n",
    "    x, y = 0, 0\n",
    "    visited = set()\n",
    "    answer = 0\n",
    "\n",
    "    for d in dirs:\n",
    "        dx, dy = dict_dir[d]\n",
    "        nx, ny = x + dx, y + dy\n",
    "\n",
    "        if -5 <= nx <= 5 and -5 <= ny <= 5:\n",
    "            path = ((x, y), (nx, ny)) if (x, y) < (nx, ny) else ((nx, ny), (x, y))\n",
    "            print('=' * 150)\n",
    "            print('ㅁ PATH : ', path)\n",
    "            print('ㅁ VISITED : ', visited)\n",
    "            if path not in visited:\n",
    "                visited.add(path)\n",
    "                answer += 1\n",
    "            x, y = nx, ny\n",
    "\n",
    "    return answer\n"
   ]
  },
  {
   "cell_type": "code",
   "execution_count": 32,
   "id": "2a0cf901",
   "metadata": {},
   "outputs": [
    {
     "name": "stdout",
     "output_type": "stream",
     "text": [
      "======================================================================================================================================================\n",
      "ㅁ PATH :  set()\n",
      "ㅁ VISITED :  set()\n",
      "======================================================================================================================================================\n",
      "ㅁ PATH :  ((-1, 0), (0, 0))\n",
      "ㅁ VISITED :  {((-1, 0), (0, 0))}\n",
      "======================================================================================================================================================\n",
      "ㅁ PATH :  ((-1, 0), (-1, 1))\n",
      "ㅁ VISITED :  {((-1, 0), (-1, 1)), ((-1, 0), (0, 0))}\n",
      "======================================================================================================================================================\n",
      "ㅁ PATH :  ((-2, 1), (-1, 1))\n",
      "ㅁ VISITED :  {((-2, 1), (-1, 1)), ((-1, 0), (-1, 1)), ((-1, 0), (0, 0))}\n",
      "======================================================================================================================================================\n",
      "ㅁ PATH :  ((-3, 1), (-2, 1))\n",
      "ㅁ VISITED :  {((-2, 1), (-1, 1)), ((-1, 0), (-1, 1)), ((-1, 0), (0, 0)), ((-3, 1), (-2, 1))}\n",
      "======================================================================================================================================================\n",
      "ㅁ PATH :  ((-4, 1), (-3, 1))\n",
      "ㅁ VISITED :  {((-3, 1), (-2, 1)), ((-1, 0), (0, 0)), ((-2, 1), (-1, 1)), ((-1, 0), (-1, 1)), ((-4, 1), (-3, 1))}\n",
      "======================================================================================================================================================\n",
      "ㅁ PATH :  ((-5, 1), (-4, 1))\n",
      "ㅁ VISITED :  {((-3, 1), (-2, 1)), ((-1, 0), (0, 0)), ((-5, 1), (-4, 1)), ((-2, 1), (-1, 1)), ((-1, 0), (-1, 1)), ((-4, 1), (-3, 1))}\n"
     ]
    },
    {
     "data": {
      "text/plain": [
       "7"
      ]
     },
     "execution_count": 32,
     "metadata": {},
     "output_type": "execute_result"
    }
   ],
   "source": [
    "dirs = \"LULLLLLLU\"\n",
    "solution(dirs)"
   ]
  },
  {
   "cell_type": "code",
   "execution_count": 36,
   "id": "a0ab42aa",
   "metadata": {},
   "outputs": [
    {
     "data": {
      "text/plain": [
       "False"
      ]
     },
     "execution_count": 36,
     "metadata": {},
     "output_type": "execute_result"
    }
   ],
   "source": [
    "(0, 1) > (0, 1)"
   ]
  },
  {
   "cell_type": "code",
   "execution_count": null,
   "id": "408bc371",
   "metadata": {},
   "outputs": [],
   "source": []
  }
 ],
 "metadata": {
  "kernelspec": {
   "display_name": "upstage_api_test",
   "language": "python",
   "name": "python3"
  },
  "language_info": {
   "codemirror_mode": {
    "name": "ipython",
    "version": 3
   },
   "file_extension": ".py",
   "mimetype": "text/x-python",
   "name": "python",
   "nbconvert_exporter": "python",
   "pygments_lexer": "ipython3",
   "version": "3.10.16"
  }
 },
 "nbformat": 4,
 "nbformat_minor": 5
}
