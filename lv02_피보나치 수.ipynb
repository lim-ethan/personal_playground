{
 "cells": [
  {
   "cell_type": "code",
   "execution_count": null,
   "id": "41c280a2",
   "metadata": {},
   "outputs": [],
   "source": [
    "def solution(n):\n",
    "    f_num = 0\n",
    "    tmp_1 = 1\n",
    "    tmp_2 = 1\n",
    "    for i in range (3, n + 1) : \n",
    "        f_num = tmp_1 + tmp_2\n",
    "        tmp_2 = tmp_1\n",
    "        tmp_1 = f_num\n",
    "    ans = f_num % 1234567\n",
    "    return ans"
   ]
  },
  {
   "cell_type": "code",
   "execution_count": 55,
   "id": "29fc438e",
   "metadata": {},
   "outputs": [
    {
     "data": {
      "text/plain": [
       "3"
      ]
     },
     "execution_count": 55,
     "metadata": {},
     "output_type": "execute_result"
    }
   ],
   "source": [
    "solution(4)"
   ]
  },
  {
   "cell_type": "code",
   "execution_count": null,
   "id": "8af479cf",
   "metadata": {},
   "outputs": [],
   "source": []
  }
 ],
 "metadata": {
  "kernelspec": {
   "display_name": "upstage_api_test",
   "language": "python",
   "name": "python3"
  },
  "language_info": {
   "codemirror_mode": {
    "name": "ipython",
    "version": 3
   },
   "file_extension": ".py",
   "mimetype": "text/x-python",
   "name": "python",
   "nbconvert_exporter": "python",
   "pygments_lexer": "ipython3",
   "version": "3.10.16"
  }
 },
 "nbformat": 4,
 "nbformat_minor": 5
}
