{
 "cells": [
  {
   "cell_type": "code",
   "execution_count": null,
   "id": "6c30a3ec",
   "metadata": {},
   "outputs": [],
   "source": [
    "import collections\n",
    "\n",
    "def convert_to_base(n, base):\n",
    "    digits = '0123456789'\n",
    "    q = collections.deque()\n",
    "\n",
    "    if n == 0:\n",
    "        return '0'\n",
    "\n",
    "    while n > 0:\n",
    "        q.appendleft(digits[n % base])\n",
    "        n = n // base\n",
    "    return ''.join(q)"
   ]
  },
  {
   "cell_type": "code",
   "execution_count": 2,
   "id": "2acca8c2",
   "metadata": {},
   "outputs": [],
   "source": [
    "def is_prime(x):\n",
    "    if x < 2:\n",
    "        return False\n",
    "    for i in range(2, int(x ** 0.5) + 1):\n",
    "        if x % i == 0:\n",
    "            return False\n",
    "    return True"
   ]
  },
  {
   "cell_type": "code",
   "execution_count": 6,
   "id": "28e6fc98",
   "metadata": {},
   "outputs": [],
   "source": [
    "def solution(n, k):\n",
    "    conv_result = convert_to_base(n, k)\n",
    "    conv_result = conv_result.split('0')\n",
    "    answer = []\n",
    "    for conv in conv_result : \n",
    "        if is_prime(int(conv)) : \n",
    "            answer.append(conv)\n",
    "    return len(answer)"
   ]
  },
  {
   "cell_type": "code",
   "execution_count": 7,
   "id": "a1419061",
   "metadata": {},
   "outputs": [
    {
     "name": "stdout",
     "output_type": "stream",
     "text": [
      "QUEUE :  deque(['2', '1', '1', '0', '2', '0', '1', '0', '1', '0', '1', '1'])\n"
     ]
    },
    {
     "data": {
      "text/plain": [
       "3"
      ]
     },
     "execution_count": 7,
     "metadata": {},
     "output_type": "execute_result"
    }
   ],
   "source": [
    "n, k = 437674, 3\n",
    "\n",
    "solution(n, k)"
   ]
  },
  {
   "cell_type": "code",
   "execution_count": null,
   "id": "54944e1b",
   "metadata": {},
   "outputs": [],
   "source": [
    "\n"
   ]
  },
  {
   "cell_type": "code",
   "execution_count": null,
   "id": "25e76914",
   "metadata": {},
   "outputs": [],
   "source": []
  }
 ],
 "metadata": {
  "kernelspec": {
   "display_name": "upstage_api_test",
   "language": "python",
   "name": "python3"
  },
  "language_info": {
   "codemirror_mode": {
    "name": "ipython",
    "version": 3
   },
   "file_extension": ".py",
   "mimetype": "text/x-python",
   "name": "python",
   "nbconvert_exporter": "python",
   "pygments_lexer": "ipython3",
   "version": "3.10.16"
  }
 },
 "nbformat": 4,
 "nbformat_minor": 5
}
