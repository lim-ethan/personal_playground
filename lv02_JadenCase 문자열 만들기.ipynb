{
 "cells": [
  {
   "cell_type": "code",
   "execution_count": 51,
   "id": "e5a8e30e",
   "metadata": {},
   "outputs": [],
   "source": [
    "def solution(s):\n",
    "    answer = ''\n",
    "    ans_list = []\n",
    "    tmp = s.split(' ')\n",
    "    for t in tmp :\n",
    "        if t == '' : \n",
    "            ans_list.append('')\n",
    "            continue\n",
    "        else : \n",
    "            header = str(t[0]).upper()\n",
    "            tail = ''\n",
    "            for element in t[1:] : \n",
    "                tail += str(element).lower()\n",
    "            ans_list.append(header + tail)\n",
    "    print(ans_list)\n",
    "    answer = ' '.join(ans_list)\n",
    "    return answer"
   ]
  },
  {
   "cell_type": "code",
   "execution_count": 52,
   "id": "de975a45",
   "metadata": {},
   "outputs": [
    {
     "name": "stdout",
     "output_type": "stream",
     "text": [
      "['', '', 'For', 'The', 'What', '', '1what', '', '']\n"
     ]
    },
    {
     "data": {
      "text/plain": [
       "'  For The What  1what  '"
      ]
     },
     "execution_count": 52,
     "metadata": {},
     "output_type": "execute_result"
    }
   ],
   "source": [
    "solution(\"  for the what  1what  \")"
   ]
  }
 ],
 "metadata": {
  "kernelspec": {
   "display_name": "upstage_api_test",
   "language": "python",
   "name": "python3"
  },
  "language_info": {
   "codemirror_mode": {
    "name": "ipython",
    "version": 3
   },
   "file_extension": ".py",
   "mimetype": "text/x-python",
   "name": "python",
   "nbconvert_exporter": "python",
   "pygments_lexer": "ipython3",
   "version": "3.10.16"
  }
 },
 "nbformat": 4,
 "nbformat_minor": 5
}
