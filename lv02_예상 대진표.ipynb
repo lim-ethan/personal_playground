{
 "cells": [
  {
   "cell_type": "code",
   "execution_count": 11,
   "id": "4e4d7c39",
   "metadata": {},
   "outputs": [],
   "source": [
    "def solution(n,a,b):\n",
    "    answer = 0\n",
    "    max_match = 0\n",
    "\n",
    "    while a != b : \n",
    "        a = (a + 1)//2\n",
    "        b = (b + 1)//2\n",
    "        max_match += 1\n",
    "    return max_match\n",
    "\n",
    "\n",
    "# 1-2 2-4 4-7\n",
    "# 3-4\n",
    "# 5-6 5-7\n",
    "# 7-8"
   ]
  },
  {
   "cell_type": "code",
   "execution_count": 12,
   "id": "c49a06f5",
   "metadata": {},
   "outputs": [
    {
     "data": {
      "text/plain": [
       "3"
      ]
     },
     "execution_count": 12,
     "metadata": {},
     "output_type": "execute_result"
    }
   ],
   "source": [
    "solution(8, 4, 7)"
   ]
  },
  {
   "cell_type": "code",
   "execution_count": null,
   "id": "f22d1754",
   "metadata": {},
   "outputs": [],
   "source": []
  }
 ],
 "metadata": {
  "kernelspec": {
   "display_name": "upstage_api_test",
   "language": "python",
   "name": "python3"
  },
  "language_info": {
   "codemirror_mode": {
    "name": "ipython",
    "version": 3
   },
   "file_extension": ".py",
   "mimetype": "text/x-python",
   "name": "python",
   "nbconvert_exporter": "python",
   "pygments_lexer": "ipython3",
   "version": "3.10.16"
  }
 },
 "nbformat": 4,
 "nbformat_minor": 5
}
