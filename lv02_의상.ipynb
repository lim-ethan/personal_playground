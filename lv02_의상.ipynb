{
 "cells": [
  {
   "cell_type": "code",
   "execution_count": 22,
   "id": "2d0e7b40",
   "metadata": {},
   "outputs": [],
   "source": [
    "import collections"
   ]
  },
  {
   "cell_type": "code",
   "execution_count": null,
   "id": "a4bae5f3",
   "metadata": {},
   "outputs": [
    {
     "name": "stdout",
     "output_type": "stream",
     "text": [
      "headgear\n",
      "eyewear\n",
      "headgear\n"
     ]
    }
   ],
   "source": [
    "items = [[\"yellow_hat\", \"headgear\"], [\"blue_sunglasses\", \"eyewear\"], [\"green_turban\", \"headgear\"]]\n",
    "def solution (items) : \n",
    "    new_items = {}\n",
    "    item_dict = [{i[1] : i[0]} for i in items]\n",
    "    for item in item_dict : \n",
    "        print(list(item.keys())[0])\n",
    "        key = list(item.keys())[0]\n",
    "        try : \n",
    "            new_items[key].append(item[key])\n",
    "        except Exception as e : \n",
    "            new_items[key] = []\n",
    "            new_items[key].append(item[key])\n",
    "\n",
    "    com = 1\n",
    "    for key in new_items.keys() : \n",
    "        com = (len(new_items[key]) + 1) * com\n",
    "\n",
    "    answer = com - 1"
   ]
  },
  {
   "cell_type": "code",
   "execution_count": 38,
   "id": "f0422511",
   "metadata": {},
   "outputs": [
    {
     "data": {
      "text/plain": [
       "5"
      ]
     },
     "execution_count": 38,
     "metadata": {},
     "output_type": "execute_result"
    }
   ],
   "source": [
    "answer"
   ]
  },
  {
   "cell_type": "code",
   "execution_count": null,
   "id": "30801ddd",
   "metadata": {},
   "outputs": [],
   "source": []
  }
 ],
 "metadata": {
  "kernelspec": {
   "display_name": "upstage_api_test",
   "language": "python",
   "name": "python3"
  },
  "language_info": {
   "codemirror_mode": {
    "name": "ipython",
    "version": 3
   },
   "file_extension": ".py",
   "mimetype": "text/x-python",
   "name": "python",
   "nbconvert_exporter": "python",
   "pygments_lexer": "ipython3",
   "version": "3.10.16"
  }
 },
 "nbformat": 4,
 "nbformat_minor": 5
}
