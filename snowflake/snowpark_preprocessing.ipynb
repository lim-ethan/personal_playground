{
 "cells": [
  {
   "cell_type": "code",
   "execution_count": 16,
   "id": "12ccf268",
   "metadata": {},
   "outputs": [],
   "source": [
    "import pandas as pd\n",
    "import snowflake.snowpark.functions as F\n",
    "from snowflake.snowpark.functions import col \n",
    "from snowflake.ml.modeling.xgboost import XGBRegressor\n",
    "import snowflake.snowpark as snowpark\n",
    "from snowflake.snowpark import Session"
   ]
  },
  {
   "cell_type": "code",
   "execution_count": 12,
   "id": "48741bcb",
   "metadata": {},
   "outputs": [],
   "source": [
    "connection_parameters = {\n",
    "    \"account\": \"auffckh-zp48025\",        # 예: xy12345.ap-northeast-2\n",
    "    \"user\": \"jinoo13\",          # 예: JIN\n",
    "    \"password\": \"Bbodong2zzang!\",\n",
    "    \"role\": \"ACCOUNTADMIN\",              # 예: SYSADMIN\n",
    "    \"warehouse\": \"PO3_WH\",    # 예: COMPUTE_WH\n",
    "    \"database\": \"PO3\",\n",
    "    \"schema\": \"POPULATION\"\n",
    "}"
   ]
  },
  {
   "cell_type": "code",
   "execution_count": null,
   "id": "5ab48471",
   "metadata": {},
   "outputs": [],
   "source": [
    "session = Session.builder.configs(connection_parameters).create()\n",
    "df = session.table('PO3.POPULATION.SNOWPARK_TEST').select(\n",
    "    col(\"TOTAL_HOUSEHOLDS\").cast(\"FLOAT\").alias(\"TOTAL_HOUSEHOLDS\"),\n",
    "    col(\"JEONSE_PRICE_PER_SUPPLY_PYEONG\").cast(\"FLOAT\").alias(\"JEONSE_PRICE_PER_SUPPLY_PYEONG\"),\n",
    "    col(\"MEME_PRICE_PER_SUPPLY_PYEONG\").cast(\"FLOAT\").alias(\"MEME_PRICE_PER_SUPPLY_PYEONG\")\n",
    ").na.drop()"
   ]
  },
  {
   "cell_type": "code",
   "execution_count": 22,
   "id": "62374d80",
   "metadata": {},
   "outputs": [],
   "source": [
    "df = df.with_column('test', F.concat(F.substr('TOTAL_HOUSEHOLDS', 1, 3), F.lit('test')))\n",
    "df = df.withColumnRenamed(\"TEST\", \"reanme\")"
   ]
  },
  {
   "cell_type": "code",
   "execution_count": 25,
   "id": "f1cab799",
   "metadata": {},
   "outputs": [
    {
     "data": {
      "text/plain": [
       "<snowflake.snowpark.dataframe.DataFrame at 0x1f755bf11e0>"
      ]
     },
     "execution_count": 25,
     "metadata": {},
     "output_type": "execute_result"
    }
   ],
   "source": [
    "df"
   ]
  },
  {
   "cell_type": "code",
   "execution_count": 23,
   "id": "15008a94",
   "metadata": {},
   "outputs": [
    {
     "name": "stdout",
     "output_type": "stream",
     "text": [
      "-----------------------------------------------------------------------------------------------------\n",
      "|\"TOTAL_HOUSEHOLDS\"  |\"JEONSE_PRICE_PER_SUPPLY_PYEONG\"  |\"MEME_PRICE_PER_SUPPLY_PYEONG\"  |\"REANME\"  |\n",
      "-----------------------------------------------------------------------------------------------------\n",
      "|6360.0              |2388.534135423                    |5767.714259396                  |636test   |\n",
      "|7117.0              |2762.249304368                    |6936.427637321                  |711test   |\n",
      "|7117.0              |2703.989579748                    |6719.954234332                  |711test   |\n",
      "|6360.0              |2694.159093293                    |7130.08462522                   |636test   |\n",
      "|6360.0              |2652.465960546                    |7206.283309731                  |636test   |\n",
      "|6360.0              |2580.479918717                    |7098.366359179                  |636test   |\n",
      "|6360.0              |2554.512655531                    |6820.978447353                  |636test   |\n",
      "|7117.0              |2852.745891018                    |7506.311770835                  |711test   |\n",
      "|5158.0              |2235.377435056                    |5061.905220945                  |515test   |\n",
      "|6360.0              |2376.578550293                    |5831.015139773                  |636test   |\n",
      "-----------------------------------------------------------------------------------------------------\n",
      "\n"
     ]
    }
   ],
   "source": [
    "df.show()"
   ]
  },
  {
   "cell_type": "code",
   "execution_count": 27,
   "id": "d32bc120",
   "metadata": {},
   "outputs": [
    {
     "name": "stdout",
     "output_type": "stream",
     "text": [
      "<class 'pandas.core.frame.DataFrame'>\n"
     ]
    }
   ],
   "source": [
    "df_test = df.to_pandas()\n",
    "print(type(df_test))"
   ]
  },
  {
   "cell_type": "code",
   "execution_count": 29,
   "id": "b895b81f",
   "metadata": {},
   "outputs": [
    {
     "name": "stdout",
     "output_type": "stream",
     "text": [
      "-----------------------------------------------------------------------------------------------------\n",
      "|\"TOTAL_HOUSEHOLDS\"  |\"JEONSE_PRICE_PER_SUPPLY_PYEONG\"  |\"MEME_PRICE_PER_SUPPLY_PYEONG\"  |\"REANME\"  |\n",
      "-----------------------------------------------------------------------------------------------------\n",
      "|6360.0              |2388.534135423                    |5767.714259396                  |636test   |\n",
      "|7117.0              |2762.249304368                    |6936.427637321                  |711test   |\n",
      "|7117.0              |2703.989579748                    |6719.954234332                  |711test   |\n",
      "|6360.0              |2694.159093293                    |7130.08462522                   |636test   |\n",
      "|6360.0              |2652.465960546                    |7206.283309731                  |636test   |\n",
      "|6360.0              |2580.479918717                    |7098.366359179                  |636test   |\n",
      "|6360.0              |2554.512655531                    |6820.978447353                  |636test   |\n",
      "|7117.0              |2852.745891018                    |7506.311770835                  |711test   |\n",
      "|5158.0              |2235.377435056                    |5061.905220945                  |515test   |\n",
      "|6360.0              |2376.578550293                    |5831.015139773                  |636test   |\n",
      "-----------------------------------------------------------------------------------------------------\n",
      "\n"
     ]
    }
   ],
   "source": [
    "session.create_dataframe(df_test).show()"
   ]
  }
 ],
 "metadata": {
  "kernelspec": {
   "display_name": "upstage_api_test",
   "language": "python",
   "name": "python3"
  },
  "language_info": {
   "codemirror_mode": {
    "name": "ipython",
    "version": 3
   },
   "file_extension": ".py",
   "mimetype": "text/x-python",
   "name": "python",
   "nbconvert_exporter": "python",
   "pygments_lexer": "ipython3",
   "version": "3.10.16"
  }
 },
 "nbformat": 4,
 "nbformat_minor": 5
}
