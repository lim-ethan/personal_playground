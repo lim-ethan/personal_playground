{
 "cells": [
  {
   "cell_type": "code",
   "execution_count": null,
   "id": "7e7fb9e1",
   "metadata": {},
   "outputs": [],
   "source": [
    "import requests\n",
    "import folium\n",
    "import json \n",
    "import os\n",
    "import pandas as pd\n",
    "\n",
    "API_key = '6c79554c4f68726c363649687a7653'\n",
    "service = 'SearchFAQOfGUListService' \n",
    "gu_url = f'http://openapi.seoul.go.kr:8088/{API_key}/json/{service}/1/25'\n",
    "gu_list = requests.get(gu_url).json()\n",
    "df_gu = pd.DataFrame(gu_list['SearchFAQOfGUListService']['row'])\n",
    "df_gu\n",
    "\n",
    "gu_json = []\n",
    "vwolrd_key = '2ADC18E1-7ED5-3E2E-AC95-8EEA589F1F77'\n",
    "for gu in df_gu['CD_DESC']:\n",
    "    url_vworld = f'https://api.vworld.kr/req/data?service=data&version=2.0&request=GetFeature&format=json&errorformat=json&size=10&page=1&data=LT_C_ADSIGG_INFO&attrfilter=sig_kor_nm:like:{gu}&columns=sig_cd,full_nm,sig_kor_nm,sig_eng_nm,ag_geom&geometry=true&attribute=true&key={vwolrd_key}&domain=https://localhost'\n",
    "    result_dict = requests.get(url_vworld).json()\n",
    "    gu_json.append(result_dict)\n",
    "\n",
    "\n",
    "features = []\n",
    "for gu_data in gu_json:  # gu_json 25개 구의 API 응답 데이터 리스트\n",
    "   gu_name = gu_data['response']['result']['featureCollection']['features'][0]['properties']['sig_kor_nm']\n",
    "   feature = {\n",
    "       \"type\": \"Feature\",\n",
    "       \"id\": gu_name,  # 구명을 id로 추가\n",
    "       \"geometry\": gu_data['response']['result']['featureCollection']['features'][0]['geometry'],\n",
    "       \"properties\": {\n",
    "           \"name\": gu_name\n",
    "       }\n",
    "   }\n",
    "   features.append(feature)\n",
    "\n",
    "geojson_data = {\n",
    "   \"type\": \"FeatureCollection\",\n",
    "   \"features\": features\n",
    "}\n",
    "\n",
    "os.makedirs('geodata', exist_ok = True)\n",
    "\n",
    "with open('./geodata/seoul_gu_boundaries.geojson', 'w', encoding='utf-8') as f:\n",
    "    json.dump(geojson_data, f, ensure_ascii=False)"
   ]
  }
 ],
 "metadata": {
  "language_info": {
   "name": "python"
  }
 },
 "nbformat": 4,
 "nbformat_minor": 5
}
