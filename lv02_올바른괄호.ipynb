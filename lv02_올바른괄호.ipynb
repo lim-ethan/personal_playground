{
 "cells": [
  {
   "cell_type": "code",
   "execution_count": 15,
   "id": "90acf5e8",
   "metadata": {},
   "outputs": [],
   "source": [
    "import sys\n",
    "from collections import deque\n"
   ]
  },
  {
   "cell_type": "code",
   "execution_count": 16,
   "id": "0d74dec4",
   "metadata": {},
   "outputs": [],
   "source": [
    "dq = deque()"
   ]
  },
  {
   "cell_type": "code",
   "execution_count": 29,
   "id": "23d9fd4c",
   "metadata": {},
   "outputs": [],
   "source": [
    "def solution(s):\n",
    "    cnt = 0\n",
    "\n",
    "    for c in s : \n",
    "\n",
    "        if c == '(' : \n",
    "            cnt += 1\n",
    "        else : cnt -= 1\n",
    "\n",
    "        if cnt < 0 : \n",
    "            return False\n",
    "\n",
    "    return cnt == 0"
   ]
  },
  {
   "cell_type": "code",
   "execution_count": 30,
   "id": "ffbcf285",
   "metadata": {},
   "outputs": [
    {
     "data": {
      "text/plain": [
       "False"
      ]
     },
     "execution_count": 30,
     "metadata": {},
     "output_type": "execute_result"
    }
   ],
   "source": [
    "solution(\")()(\")"
   ]
  },
  {
   "cell_type": "code",
   "execution_count": null,
   "id": "afb211e1",
   "metadata": {},
   "outputs": [],
   "source": []
  },
  {
   "cell_type": "code",
   "execution_count": null,
   "id": "20baab5a",
   "metadata": {},
   "outputs": [],
   "source": []
  }
 ],
 "metadata": {
  "kernelspec": {
   "display_name": "upstage_api_test",
   "language": "python",
   "name": "python3"
  },
  "language_info": {
   "codemirror_mode": {
    "name": "ipython",
    "version": 3
   },
   "file_extension": ".py",
   "mimetype": "text/x-python",
   "name": "python",
   "nbconvert_exporter": "python",
   "pygments_lexer": "ipython3",
   "version": "3.10.16"
  }
 },
 "nbformat": 4,
 "nbformat_minor": 5
}
